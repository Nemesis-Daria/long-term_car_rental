{
 "cells": [
  {
   "cell_type": "code",
   "execution_count": 173,
   "id": "0d8f6437-f705-490a-92be-37148e7c5bec",
   "metadata": {},
   "outputs": [],
   "source": [
    "# Импорт библиотек\n",
    "import pandas as pd\n",
    "import numpy as np\n",
    "import matplotlib.pyplot as plt\n",
    "import seaborn as sns\n",
    "import warnings\n",
    "\n",
    "from sklearn.preprocessing import LabelEncoder\n",
    "from statsmodels.stats.proportion import proportions_ztest"
   ]
  },
  {
   "cell_type": "code",
   "execution_count": 174,
   "id": "6362e21f-7ad3-4dd8-bd5f-ae4d272a2ad3",
   "metadata": {},
   "outputs": [],
   "source": [
    "# Игнорирование предупреждений\n",
    "warnings.filterwarnings(\"ignore\")"
   ]
  },
  {
   "cell_type": "code",
   "execution_count": 2,
   "id": "b990efdc-7bb7-4d7b-86cb-cecc3662d432",
   "metadata": {},
   "outputs": [],
   "source": [
    "# Отображение максимального количества столбцов в датафреймах\n",
    "pd.set_option('display.max_columns', None)  "
   ]
  },
  {
   "cell_type": "code",
   "execution_count": 3,
   "id": "f730565a-783f-449d-95da-4db076875c2a",
   "metadata": {
    "scrolled": true
   },
   "outputs": [
    {
     "data": {
      "text/html": [
       "<div>\n",
       "<style scoped>\n",
       "    .dataframe tbody tr th:only-of-type {\n",
       "        vertical-align: middle;\n",
       "    }\n",
       "\n",
       "    .dataframe tbody tr th {\n",
       "        vertical-align: top;\n",
       "    }\n",
       "\n",
       "    .dataframe thead th {\n",
       "        text-align: right;\n",
       "    }\n",
       "</style>\n",
       "<table border=\"1\" class=\"dataframe\">\n",
       "  <thead>\n",
       "    <tr style=\"text-align: right;\">\n",
       "      <th></th>\n",
       "      <th>session_id</th>\n",
       "      <th>hit_date</th>\n",
       "      <th>hit_time</th>\n",
       "      <th>hit_number</th>\n",
       "      <th>hit_type</th>\n",
       "      <th>hit_referer</th>\n",
       "      <th>hit_page_path</th>\n",
       "      <th>event_category</th>\n",
       "      <th>event_action</th>\n",
       "      <th>event_label</th>\n",
       "      <th>event_value</th>\n",
       "    </tr>\n",
       "  </thead>\n",
       "  <tbody>\n",
       "    <tr>\n",
       "      <th>0</th>\n",
       "      <td>5639623078712724064.1640254056.1640254056</td>\n",
       "      <td>2021-12-23</td>\n",
       "      <td>597864.0</td>\n",
       "      <td>30</td>\n",
       "      <td>event</td>\n",
       "      <td>NaN</td>\n",
       "      <td>sberauto.com/cars?utm_source_initial=google&amp;ut...</td>\n",
       "      <td>quiz</td>\n",
       "      <td>quiz_show</td>\n",
       "      <td>NaN</td>\n",
       "      <td>NaN</td>\n",
       "    </tr>\n",
       "    <tr>\n",
       "      <th>1</th>\n",
       "      <td>7750352294969115059.1640271109.1640271109</td>\n",
       "      <td>2021-12-23</td>\n",
       "      <td>597331.0</td>\n",
       "      <td>41</td>\n",
       "      <td>event</td>\n",
       "      <td>NaN</td>\n",
       "      <td>sberauto.com/cars/fiat?city=1&amp;city=18&amp;rental_c...</td>\n",
       "      <td>quiz</td>\n",
       "      <td>quiz_show</td>\n",
       "      <td>NaN</td>\n",
       "      <td>NaN</td>\n",
       "    </tr>\n",
       "    <tr>\n",
       "      <th>2</th>\n",
       "      <td>885342191847998240.1640235807.1640235807</td>\n",
       "      <td>2021-12-23</td>\n",
       "      <td>796252.0</td>\n",
       "      <td>49</td>\n",
       "      <td>event</td>\n",
       "      <td>NaN</td>\n",
       "      <td>sberauto.com/cars/all/volkswagen/polo/e994838f...</td>\n",
       "      <td>quiz</td>\n",
       "      <td>quiz_show</td>\n",
       "      <td>NaN</td>\n",
       "      <td>NaN</td>\n",
       "    </tr>\n",
       "    <tr>\n",
       "      <th>3</th>\n",
       "      <td>142526202120934167.1640211014.1640211014</td>\n",
       "      <td>2021-12-23</td>\n",
       "      <td>934292.0</td>\n",
       "      <td>46</td>\n",
       "      <td>event</td>\n",
       "      <td>NaN</td>\n",
       "      <td>sberauto.com/cars?utm_source_initial=yandex&amp;ut...</td>\n",
       "      <td>quiz</td>\n",
       "      <td>quiz_show</td>\n",
       "      <td>NaN</td>\n",
       "      <td>NaN</td>\n",
       "    </tr>\n",
       "    <tr>\n",
       "      <th>4</th>\n",
       "      <td>3450086108837475701.1640265078.1640265078</td>\n",
       "      <td>2021-12-23</td>\n",
       "      <td>768741.0</td>\n",
       "      <td>79</td>\n",
       "      <td>event</td>\n",
       "      <td>NaN</td>\n",
       "      <td>sberauto.com/cars/all/mercedes-benz/cla-klasse...</td>\n",
       "      <td>quiz</td>\n",
       "      <td>quiz_show</td>\n",
       "      <td>NaN</td>\n",
       "      <td>NaN</td>\n",
       "    </tr>\n",
       "  </tbody>\n",
       "</table>\n",
       "</div>"
      ],
      "text/plain": [
       "                                  session_id    hit_date  hit_time  \\\n",
       "0  5639623078712724064.1640254056.1640254056  2021-12-23  597864.0   \n",
       "1  7750352294969115059.1640271109.1640271109  2021-12-23  597331.0   \n",
       "2   885342191847998240.1640235807.1640235807  2021-12-23  796252.0   \n",
       "3   142526202120934167.1640211014.1640211014  2021-12-23  934292.0   \n",
       "4  3450086108837475701.1640265078.1640265078  2021-12-23  768741.0   \n",
       "\n",
       "   hit_number hit_type hit_referer  \\\n",
       "0          30    event         NaN   \n",
       "1          41    event         NaN   \n",
       "2          49    event         NaN   \n",
       "3          46    event         NaN   \n",
       "4          79    event         NaN   \n",
       "\n",
       "                                       hit_page_path event_category  \\\n",
       "0  sberauto.com/cars?utm_source_initial=google&ut...           quiz   \n",
       "1  sberauto.com/cars/fiat?city=1&city=18&rental_c...           quiz   \n",
       "2  sberauto.com/cars/all/volkswagen/polo/e994838f...           quiz   \n",
       "3  sberauto.com/cars?utm_source_initial=yandex&ut...           quiz   \n",
       "4  sberauto.com/cars/all/mercedes-benz/cla-klasse...           quiz   \n",
       "\n",
       "  event_action event_label  event_value  \n",
       "0    quiz_show         NaN          NaN  \n",
       "1    quiz_show         NaN          NaN  \n",
       "2    quiz_show         NaN          NaN  \n",
       "3    quiz_show         NaN          NaN  \n",
       "4    quiz_show         NaN          NaN  "
      ]
     },
     "execution_count": 3,
     "metadata": {},
     "output_type": "execute_result"
    }
   ],
   "source": [
    "# Датафрейм с событиями\n",
    "df_hits = pd.read_csv('data/ga_hits.csv', low_memory=False)\n",
    "df_hits.head()"
   ]
  },
  {
   "cell_type": "code",
   "execution_count": 4,
   "id": "880f6410-b9e4-4a61-82b7-81063d4db3db",
   "metadata": {},
   "outputs": [
    {
     "data": {
      "text/plain": [
       "(15726470, 11)"
      ]
     },
     "execution_count": 4,
     "metadata": {},
     "output_type": "execute_result"
    }
   ],
   "source": [
    "# Размерность датафрейма\n",
    "df_hits.shape"
   ]
  },
  {
   "cell_type": "code",
   "execution_count": 5,
   "id": "8eb99f3c-b8f1-4d3e-98cd-ef109a7dd8a5",
   "metadata": {},
   "outputs": [
    {
     "name": "stdout",
     "output_type": "stream",
     "text": [
      "<class 'pandas.core.frame.DataFrame'>\n",
      "RangeIndex: 15726470 entries, 0 to 15726469\n",
      "Data columns (total 11 columns):\n",
      " #   Column          Non-Null Count     Dtype  \n",
      "---  ------          --------------     -----  \n",
      " 0   session_id      15726470 non-null  object \n",
      " 1   hit_date        15726470 non-null  object \n",
      " 2   hit_time        6566148 non-null   float64\n",
      " 3   hit_number      15726470 non-null  int64  \n",
      " 4   hit_type        15726470 non-null  object \n",
      " 5   hit_referer     9451666 non-null   object \n",
      " 6   hit_page_path   15726470 non-null  object \n",
      " 7   event_category  15726470 non-null  object \n",
      " 8   event_action    15726470 non-null  object \n",
      " 9   event_label     11966286 non-null  object \n",
      " 10  event_value     0 non-null         float64\n",
      "dtypes: float64(2), int64(1), object(8)\n",
      "memory usage: 1.3+ GB\n"
     ]
    }
   ],
   "source": [
    "# Информация о датафрейме\n",
    "df_hits.info(show_counts=True)"
   ]
  },
  {
   "cell_type": "code",
   "execution_count": 6,
   "id": "35d9d93d-689b-46bf-8041-dd259d4ae372",
   "metadata": {},
   "outputs": [
    {
     "name": "stdout",
     "output_type": "stream",
     "text": [
      "session_id\n",
      "5442565791571325612.1632449195.1632449195    768\n",
      "6568868914238486437.1632270313.1632270313    678\n",
      "5959671972744778783.1632490527.1632490600    548\n",
      "7452598043578978502.1632358598.1632358598    514\n",
      "3070792010704358528.1629752408.1629752408    498\n",
      "                                            ... \n",
      "4570994095441102117.1630324006.1630324006      1\n",
      "768506153535315810.1630314342.1630314342       1\n",
      "5517253735248338264.1630315080.1630315080      1\n",
      "4054272189286640867.1630334209.1630334209      1\n",
      "5381267721977892188.1640271196.1640271196      1\n",
      "Name: count, Length: 1734610, dtype: int64\n",
      "hit_date\n",
      "2021-05-24    513035\n",
      "2021-12-21    280192\n",
      "2021-05-25    235805\n",
      "2021-09-23    168899\n",
      "2021-05-26    158382\n",
      "               ...  \n",
      "2021-07-24     23490\n",
      "2021-05-23     18773\n",
      "2021-05-19     14605\n",
      "2021-05-22     13917\n",
      "2021-05-21     13497\n",
      "Name: count, Length: 226, dtype: int64\n",
      "hit_time\n",
      "0.0          41137\n",
      "1.0          18522\n",
      "2.0          10101\n",
      "3.0           6060\n",
      "4.0           4478\n",
      "             ...  \n",
      "544067.0         1\n",
      "698726.0         1\n",
      "1200872.0        1\n",
      "1484143.0        1\n",
      "742820.0         1\n",
      "Name: count, Length: 925887, dtype: int64\n",
      "hit_number\n",
      "3      1097355\n",
      "4       928038\n",
      "7       667634\n",
      "8       572076\n",
      "9       548347\n",
      "        ...   \n",
      "479         43\n",
      "497         43\n",
      "462         41\n",
      "494         41\n",
      "486         41\n",
      "Name: count, Length: 500, dtype: int64\n",
      "hit_type\n",
      "event    15726470\n",
      "Name: count, dtype: int64\n",
      "hit_referer\n",
      "HbolMJUevblAbkHClEQa    8879187\n",
      "FwdMTcXzWAwhtsnMAbhS      91940\n",
      "sAGDBCdeVPmQPwkVEcIX      53565\n",
      "GQmOLxANuSeCxCanBpMl      35470\n",
      "ZeRnFrHdnMmnqraghdGJ      23016\n",
      "                         ...   \n",
      "VaOgrsicGpgIbzLNSDbc          1\n",
      "rSeuBRLEcgyWsXrSYQqh          1\n",
      "UNckxKWlzUxsKgvMBNdE          1\n",
      "YZNVwxZKSbzYIwrGrgdY          1\n",
      "tvGabHlPFDvTmIFiCKTL          1\n",
      "Name: count, Length: 37873, dtype: int64\n",
      "hit_page_path\n",
      "podpiska.sberauto.com/                                                                                                                                                                                                  2793639\n",
      "sberauto.com/cars?city=1&rental_page=rental_only&rental_car=rental_only&city=18                                                                                                                                         1103484\n",
      "sberauto.com/cars?utm_source_initial=sbol&utm_medium_initial=banner&utm_campaign_initial=LEoPHuyFvzoNfnzGgfcd&utm_content_initial=vCIpmpaGBnIQhyYNkXqp&city=1&rental_page=rental_only&rental_car=rental_only&city=18     754215\n",
      "sberauto.com/cars/f28947a1?rental_page=rental_car                                                                                                                                                                        264878\n",
      "sberauto.com/cars/bf24b977?rental_page=rental_car                                                                                                                                                                        263966\n",
      "                                                                                                                                                                                                                         ...   \n",
      "podpiska.sberauto.com/?fbclid=iwar09fvzokgiv3gx81ai3dyf2qcny_qa4zgby20oxibjfb0n-xjfftpexqbq                                                                                                                                   1\n",
      "podpiska.sberauto.com/?fbclid=iwar05frzto9b6i3y-gkugl3rhizmjha7pznimzeix3tugv-6qdjdshjhwzrs                                                                                                                                   1\n",
      "podpiska.sberauto.com/?yclid=4999432059093308360                                                                                                                                                                              1\n",
      "podpiska.sberauto.com/?yclid=4994941468752008183                                                                                                                                                                              1\n",
      "sberauto.com/moskva/cars?datefrom=2021&rental_car=rental_only&rental_page=rental_only&page=2                                                                                                                                  1\n",
      "Name: count, Length: 342715, dtype: int64\n",
      "event_category\n",
      "card_web                         7456998\n",
      "search_form                      2423605\n",
      "sub_page_view                    1986074\n",
      "sub_button_click                 1073471\n",
      "listing_ads                      1040468\n",
      "cars                              358915\n",
      "sap_search_form                   356596\n",
      "quiz                              263134\n",
      "auth                              189373\n",
      "sap_search__form                  188129\n",
      "jivosite                           88443\n",
      "chat                               85007\n",
      "ad_banner                          40441\n",
      "offers                             31218\n",
      "navigation                         27075\n",
      "footer                             20297\n",
      "sub_submit                         18495\n",
      "greenday_sub_button_click          15425\n",
      "main_banners                       14142\n",
      "profile_menu                       13879\n",
      "scrolling_main_page                12160\n",
      "active_invitation                   8478\n",
      "header                              3531\n",
      "my_idea                             2319\n",
      "greenday_listing_ads                1792\n",
      "main_services                       1464\n",
      "phone                               1212\n",
      "category_tile                        924\n",
      "greenday_gtm.triggergroup            766\n",
      "add_ad                               749\n",
      "greenday_sub_submit                  732\n",
      "credit_landing_pos                   274\n",
      "add_ad_additional_information        122\n",
      "main_advantages                      100\n",
      "add_ad_vin                            88\n",
      "pos_landing                           67\n",
      "add_ad_publish_success                65\n",
      "add_ad_options                        62\n",
      "add_ad_city                           59\n",
      "add_ad_photo                          55\n",
      "add_ad_price                          53\n",
      "add_ad_preview                        49\n",
      "add_ad_description                    48\n",
      "add_ad_documents                      46\n",
      "credit_buttons                        27\n",
      "wallet                                15\n",
      "tesla                                 10\n",
      "greenday_sub_page_view                 7\n",
      "add_ad_form                            4\n",
      "greenday_card_web                      4\n",
      "app_banner                             2\n",
      "titul_form                             1\n",
      "Name: count, dtype: int64\n",
      "event_action\n",
      "view_card                     3558985\n",
      "view_new_card                 3551009\n",
      "sub_landing                   1798117\n",
      "go_to_car_card                 973666\n",
      "sub_view_cars_click            791515\n",
      "                               ...   \n",
      "click_on_android                    1\n",
      "new_year_road_help_btn              1\n",
      "titul_page_view                     1\n",
      "show_pos_status_declined            1\n",
      "survey_buy_after_sell_when          1\n",
      "Name: count, Length: 230, dtype: int64\n",
      "event_label\n",
      "KclpemfoHstknWHFiLit    6505447\n",
      "hAHqGICPFQiPwtzubOzs    1284914\n",
      "OHfyUfDKdPgBdvelDlfG     626554\n",
      "pzAKUYdRKNEUXxxBFUPX     358915\n",
      "ghOrjqpgskpGHSFfBBsi     342500\n",
      "                         ...   \n",
      "iFTveknOEiHmdgIHHqBZ          1\n",
      "WKfoFxrMANSjHQMIhCZr          1\n",
      "RAJXTkPWctNbMZubUIng          1\n",
      "jRptuMMybqHerOxplPYo          1\n",
      "aNlmojNIfsJaXKZHCDiU          1\n",
      "Name: count, Length: 39825, dtype: int64\n",
      "Series([], Name: count, dtype: int64)\n"
     ]
    }
   ],
   "source": [
    "# Обзор значений столбцов\n",
    "for col in df_hits.columns:\n",
    "    print(df_hits[col].value_counts())"
   ]
  },
  {
   "cell_type": "code",
   "execution_count": 7,
   "id": "a22e49b6-8a1f-4889-9a0c-8f21accff17c",
   "metadata": {},
   "outputs": [
    {
     "data": {
      "text/plain": [
       "0"
      ]
     },
     "execution_count": 7,
     "metadata": {},
     "output_type": "execute_result"
    }
   ],
   "source": [
    "# Наличие дубликатов\n",
    "df_hits.duplicated().sum()"
   ]
  },
  {
   "cell_type": "code",
   "execution_count": 8,
   "id": "018018bb-5cee-430c-a473-aadde9ccabc9",
   "metadata": {},
   "outputs": [
    {
     "name": "stdout",
     "output_type": "stream",
     "text": [
      "Процент пропущенных значений:\n"
     ]
    },
    {
     "data": {
      "text/plain": [
       "event_value       100.00\n",
       "hit_time           58.25\n",
       "hit_referer        39.90\n",
       "event_label        23.91\n",
       "session_id          0.00\n",
       "hit_date            0.00\n",
       "hit_number          0.00\n",
       "hit_type            0.00\n",
       "hit_page_path       0.00\n",
       "event_category      0.00\n",
       "event_action        0.00\n",
       "dtype: float64"
      ]
     },
     "execution_count": 8,
     "metadata": {},
     "output_type": "execute_result"
    }
   ],
   "source": [
    "# Пропущенные значения\n",
    "missing_values = round(((df_hits.isna().sum() / len(df_hits)) * 100).sort_values(ascending=False), 2)\n",
    "\n",
    "print('Процент пропущенных значений:')\n",
    "missing_values"
   ]
  },
  {
   "cell_type": "code",
   "execution_count": 9,
   "id": "20c4cf6d-f57b-4301-801a-5a7a1cd417da",
   "metadata": {},
   "outputs": [],
   "source": [
    "# Удалим все столбцы с пропусками, т.к. они > 20% всех записей, и hit_type, т.к. он константный\n",
    "df_hits = df_hits.drop(['event_value', 'hit_time', 'hit_referer', 'event_label', 'hit_type'], axis=1)"
   ]
  },
  {
   "cell_type": "code",
   "execution_count": 10,
   "id": "c989e916-08eb-4e37-b2f3-8537729c09fa",
   "metadata": {},
   "outputs": [
    {
     "data": {
      "text/plain": [
       "session_id        object\n",
       "hit_date          object\n",
       "hit_number         int64\n",
       "hit_page_path     object\n",
       "event_category    object\n",
       "event_action      object\n",
       "dtype: object"
      ]
     },
     "execution_count": 10,
     "metadata": {},
     "output_type": "execute_result"
    }
   ],
   "source": [
    "# Типы данных признаков в датафрейме\n",
    "df_hits.dtypes"
   ]
  },
  {
   "cell_type": "code",
   "execution_count": 11,
   "id": "52be3c79-6b1b-4f06-a237-8e7e84411d21",
   "metadata": {},
   "outputs": [],
   "source": [
    "# Изменение типа данных hit_date на тип datetime\n",
    "df_hits.hit_date = pd.to_datetime(df_hits['hit_date'])"
   ]
  },
  {
   "cell_type": "code",
   "execution_count": 12,
   "id": "827a0596-6373-48e8-96d1-8996aa860563",
   "metadata": {},
   "outputs": [],
   "source": [
    "# Изменение типа данных hit_number на тип int32 для экономии памяти\n",
    "df_hits.hit_number = df_hits['hit_number'].astype('int32')"
   ]
  },
  {
   "cell_type": "code",
   "execution_count": 13,
   "id": "fb79b81c-0905-4595-af9e-e33a73b143cf",
   "metadata": {},
   "outputs": [],
   "source": [
    "# Изменение типа данных event_category и event_action на тип category\n",
    "df_hits.event_category = df_hits['event_category'].astype('category')\n",
    "df_hits.event_action = df_hits['event_action'].astype('category')"
   ]
  },
  {
   "cell_type": "code",
   "execution_count": 15,
   "id": "19f2dd3e-27ca-4ede-9a1c-441818e6b651",
   "metadata": {},
   "outputs": [
    {
     "data": {
      "text/plain": [
       "session_id                object\n",
       "hit_date          datetime64[ns]\n",
       "hit_number                 int32\n",
       "hit_page_path             object\n",
       "event_category          category\n",
       "event_action            category\n",
       "dtype: object"
      ]
     },
     "execution_count": 15,
     "metadata": {},
     "output_type": "execute_result"
    }
   ],
   "source": [
    "# Просмотр типов данных\n",
    "df_hits.dtypes"
   ]
  },
  {
   "cell_type": "code",
   "execution_count": 16,
   "id": "8e259e7e-8731-48eb-b8d3-29c7c69adaf0",
   "metadata": {},
   "outputs": [],
   "source": [
    "# Создание новой колонки car_model\n",
    "def find_auto(str):\n",
    "    car_models = ['porsche', 'zotye', 'smart', 'honda', 'maserati', 'toyota', 'volvo', 'chrysler', 'suzuki', 'haval', 'foton',\n",
    "                  'datsun', 'skoda', 'geely', 'uaz', 'buick', 'lada', 'dacia', 'lifan', 'lincoln', 'moskvich', 'jaguar', 'ford',\n",
    "                  'rover', 'faw', 'scion', 'highlander', 'gaz', 'mercedes-benz', 'fiat', 'cheryexeed', 'dongfeng', 'chevrolet',\n",
    "                  'rolls-royce', 'jac', 'opel', 'daewoo', 'bmw', 'mitsubishi', 'lexus', 'audi', 'vortex', 'byd', 'genesis',\n",
    "                  'volkswagen', 'subaru', 'mazda', 'range-rover', 'seat', 'peugeot', 'ssangyong', 'jmc', 'gac', 'exeed', 'tesla',\n",
    "                  'hummer', 'renault', 'chery', 'alfa-romeo', 'haima', 'nissan', 'mini', 'saab', 'hawtai', 'dodge', 'infiniti',\n",
    "                  'zaz', 'cadillac', 'citroen', 'great wall', 'bentley', 'hyundai', 'baic', 'aurus', 'daihatsu', 'brilliance',\n",
    "                  'land-rover', 'dw-hower', 'jeep', 'changan', 'kia']\n",
    "    found_car_model = 'other'\n",
    "    for car_model in car_models:\n",
    "        if car_model in str: \n",
    "            found_car_model = car_model\n",
    "    return found_car_model\n",
    "df_hits['car_model'] = df_hits['hit_page_path'].apply(lambda x : find_auto(x))"
   ]
  },
  {
   "cell_type": "code",
   "execution_count": 19,
   "id": "e0dcde31-ea55-4258-8f24-5c7dd1d3938e",
   "metadata": {},
   "outputs": [],
   "source": [
    "# Создание новой колонки target_action со значениями target_action и not_target_action\n",
    "df_hits['target_action'] = df_hits['event_action'].apply(lambda x: 'target_action' if x in ['sub_car_claim_click', 'sub_car_claim_submit_click', \\\n",
    "        'sub_open_dialog_click', 'sub_custom_question_submit_click', 'sub_call_number_click', 'sub_callback_submit_click', \\\n",
    "        'sub_submit_success', 'sub_car_request_submit_click'] else 'not_target_action')"
   ]
  },
  {
   "cell_type": "code",
   "execution_count": 20,
   "id": "2ab9d3c6-e6cc-4ea9-bd16-035f06038511",
   "metadata": {},
   "outputs": [
    {
     "data": {
      "text/html": [
       "<div>\n",
       "<style scoped>\n",
       "    .dataframe tbody tr th:only-of-type {\n",
       "        vertical-align: middle;\n",
       "    }\n",
       "\n",
       "    .dataframe tbody tr th {\n",
       "        vertical-align: top;\n",
       "    }\n",
       "\n",
       "    .dataframe thead th {\n",
       "        text-align: right;\n",
       "    }\n",
       "</style>\n",
       "<table border=\"1\" class=\"dataframe\">\n",
       "  <thead>\n",
       "    <tr style=\"text-align: right;\">\n",
       "      <th></th>\n",
       "      <th>session_id</th>\n",
       "      <th>hit_date</th>\n",
       "      <th>hit_number</th>\n",
       "      <th>hit_page_path</th>\n",
       "      <th>event_category</th>\n",
       "      <th>event_action</th>\n",
       "      <th>car_model</th>\n",
       "      <th>target_action</th>\n",
       "    </tr>\n",
       "  </thead>\n",
       "  <tbody>\n",
       "    <tr>\n",
       "      <th>0</th>\n",
       "      <td>5639623078712724064.1640254056.1640254056</td>\n",
       "      <td>2021-12-23</td>\n",
       "      <td>30</td>\n",
       "      <td>sberauto.com/cars?utm_source_initial=google&amp;ut...</td>\n",
       "      <td>quiz</td>\n",
       "      <td>quiz_show</td>\n",
       "      <td>other</td>\n",
       "      <td>not_target_action</td>\n",
       "    </tr>\n",
       "    <tr>\n",
       "      <th>1</th>\n",
       "      <td>7750352294969115059.1640271109.1640271109</td>\n",
       "      <td>2021-12-23</td>\n",
       "      <td>41</td>\n",
       "      <td>sberauto.com/cars/fiat?city=1&amp;city=18&amp;rental_c...</td>\n",
       "      <td>quiz</td>\n",
       "      <td>quiz_show</td>\n",
       "      <td>fiat</td>\n",
       "      <td>not_target_action</td>\n",
       "    </tr>\n",
       "    <tr>\n",
       "      <th>2</th>\n",
       "      <td>885342191847998240.1640235807.1640235807</td>\n",
       "      <td>2021-12-23</td>\n",
       "      <td>49</td>\n",
       "      <td>sberauto.com/cars/all/volkswagen/polo/e994838f...</td>\n",
       "      <td>quiz</td>\n",
       "      <td>quiz_show</td>\n",
       "      <td>volkswagen</td>\n",
       "      <td>not_target_action</td>\n",
       "    </tr>\n",
       "    <tr>\n",
       "      <th>3</th>\n",
       "      <td>142526202120934167.1640211014.1640211014</td>\n",
       "      <td>2021-12-23</td>\n",
       "      <td>46</td>\n",
       "      <td>sberauto.com/cars?utm_source_initial=yandex&amp;ut...</td>\n",
       "      <td>quiz</td>\n",
       "      <td>quiz_show</td>\n",
       "      <td>other</td>\n",
       "      <td>not_target_action</td>\n",
       "    </tr>\n",
       "    <tr>\n",
       "      <th>4</th>\n",
       "      <td>3450086108837475701.1640265078.1640265078</td>\n",
       "      <td>2021-12-23</td>\n",
       "      <td>79</td>\n",
       "      <td>sberauto.com/cars/all/mercedes-benz/cla-klasse...</td>\n",
       "      <td>quiz</td>\n",
       "      <td>quiz_show</td>\n",
       "      <td>mercedes-benz</td>\n",
       "      <td>not_target_action</td>\n",
       "    </tr>\n",
       "  </tbody>\n",
       "</table>\n",
       "</div>"
      ],
      "text/plain": [
       "                                  session_id   hit_date  hit_number  \\\n",
       "0  5639623078712724064.1640254056.1640254056 2021-12-23          30   \n",
       "1  7750352294969115059.1640271109.1640271109 2021-12-23          41   \n",
       "2   885342191847998240.1640235807.1640235807 2021-12-23          49   \n",
       "3   142526202120934167.1640211014.1640211014 2021-12-23          46   \n",
       "4  3450086108837475701.1640265078.1640265078 2021-12-23          79   \n",
       "\n",
       "                                       hit_page_path event_category  \\\n",
       "0  sberauto.com/cars?utm_source_initial=google&ut...           quiz   \n",
       "1  sberauto.com/cars/fiat?city=1&city=18&rental_c...           quiz   \n",
       "2  sberauto.com/cars/all/volkswagen/polo/e994838f...           quiz   \n",
       "3  sberauto.com/cars?utm_source_initial=yandex&ut...           quiz   \n",
       "4  sberauto.com/cars/all/mercedes-benz/cla-klasse...           quiz   \n",
       "\n",
       "  event_action      car_model      target_action  \n",
       "0    quiz_show          other  not_target_action  \n",
       "1    quiz_show           fiat  not_target_action  \n",
       "2    quiz_show     volkswagen  not_target_action  \n",
       "3    quiz_show          other  not_target_action  \n",
       "4    quiz_show  mercedes-benz  not_target_action  "
      ]
     },
     "execution_count": 20,
     "metadata": {},
     "output_type": "execute_result"
    }
   ],
   "source": [
    "df_hits.head()"
   ]
  },
  {
   "cell_type": "code",
   "execution_count": 21,
   "id": "1569ae0d-6791-4c06-bbd0-cfe95477a1bc",
   "metadata": {},
   "outputs": [
    {
     "data": {
      "text/plain": [
       "session_id                object\n",
       "hit_date          datetime64[ns]\n",
       "hit_number                 int32\n",
       "hit_page_path             object\n",
       "event_category          category\n",
       "event_action            category\n",
       "car_model                 object\n",
       "target_action             object\n",
       "dtype: object"
      ]
     },
     "execution_count": 21,
     "metadata": {},
     "output_type": "execute_result"
    }
   ],
   "source": [
    "# Типы данных колонок\n",
    "df_hits.dtypes"
   ]
  },
  {
   "cell_type": "code",
   "execution_count": 22,
   "id": "5561f458-ccee-4b94-b449-2a778aca6ad7",
   "metadata": {},
   "outputs": [],
   "source": [
    "# Категориальные признаки для преобразования типа данных\n",
    "categorical = ['car_model', 'target_action']"
   ]
  },
  {
   "cell_type": "code",
   "execution_count": 23,
   "id": "46f012ea-4d84-4da6-8113-a623adea92ed",
   "metadata": {},
   "outputs": [],
   "source": [
    "# Изменение типа колонок car_model и target_action на категориальный\n",
    "df_hits[categorical] = df_hits[categorical].astype('category')"
   ]
  },
  {
   "cell_type": "code",
   "execution_count": 24,
   "id": "67f61a3a-eecf-4276-b9eb-658d3071a543",
   "metadata": {},
   "outputs": [
    {
     "data": {
      "text/plain": [
       "session_id                object\n",
       "hit_date          datetime64[ns]\n",
       "hit_number                 int32\n",
       "hit_page_path             object\n",
       "event_category          category\n",
       "event_action            category\n",
       "car_model               category\n",
       "target_action           category\n",
       "dtype: object"
      ]
     },
     "execution_count": 24,
     "metadata": {},
     "output_type": "execute_result"
    }
   ],
   "source": [
    "# Типы данных колонок\n",
    "df_hits.dtypes"
   ]
  },
  {
   "cell_type": "code",
   "execution_count": 25,
   "id": "1d739480-c2e8-4950-ad9b-5dcf5137bc97",
   "metadata": {},
   "outputs": [
    {
     "data": {
      "text/html": [
       "<div>\n",
       "<style scoped>\n",
       "    .dataframe tbody tr th:only-of-type {\n",
       "        vertical-align: middle;\n",
       "    }\n",
       "\n",
       "    .dataframe tbody tr th {\n",
       "        vertical-align: top;\n",
       "    }\n",
       "\n",
       "    .dataframe thead th {\n",
       "        text-align: right;\n",
       "    }\n",
       "</style>\n",
       "<table border=\"1\" class=\"dataframe\">\n",
       "  <thead>\n",
       "    <tr style=\"text-align: right;\">\n",
       "      <th></th>\n",
       "      <th>session_id</th>\n",
       "      <th>client_id</th>\n",
       "      <th>visit_date</th>\n",
       "      <th>visit_time</th>\n",
       "      <th>visit_number</th>\n",
       "      <th>utm_source</th>\n",
       "      <th>utm_medium</th>\n",
       "      <th>utm_campaign</th>\n",
       "      <th>utm_adcontent</th>\n",
       "      <th>utm_keyword</th>\n",
       "      <th>device_category</th>\n",
       "      <th>device_os</th>\n",
       "      <th>device_brand</th>\n",
       "      <th>device_model</th>\n",
       "      <th>device_screen_resolution</th>\n",
       "      <th>device_browser</th>\n",
       "      <th>geo_country</th>\n",
       "      <th>geo_city</th>\n",
       "    </tr>\n",
       "  </thead>\n",
       "  <tbody>\n",
       "    <tr>\n",
       "      <th>0</th>\n",
       "      <td>9055434745589932991.1637753792.1637753792</td>\n",
       "      <td>2108382700.1637753791</td>\n",
       "      <td>2021-11-24</td>\n",
       "      <td>14:36:32</td>\n",
       "      <td>1</td>\n",
       "      <td>ZpYIoDJMcFzVoPFsHGJL</td>\n",
       "      <td>banner</td>\n",
       "      <td>LEoPHuyFvzoNfnzGgfcd</td>\n",
       "      <td>vCIpmpaGBnIQhyYNkXqp</td>\n",
       "      <td>puhZPIYqKXeFPaUviSjo</td>\n",
       "      <td>mobile</td>\n",
       "      <td>Android</td>\n",
       "      <td>Huawei</td>\n",
       "      <td>NaN</td>\n",
       "      <td>360x720</td>\n",
       "      <td>Chrome</td>\n",
       "      <td>Russia</td>\n",
       "      <td>Zlatoust</td>\n",
       "    </tr>\n",
       "    <tr>\n",
       "      <th>1</th>\n",
       "      <td>905544597018549464.1636867290.1636867290</td>\n",
       "      <td>210838531.1636867288</td>\n",
       "      <td>2021-11-14</td>\n",
       "      <td>08:21:30</td>\n",
       "      <td>1</td>\n",
       "      <td>MvfHsxITijuriZxsqZqt</td>\n",
       "      <td>cpm</td>\n",
       "      <td>FTjNLDyTrXaWYgZymFkV</td>\n",
       "      <td>xhoenQgDQsgfEPYNPwKO</td>\n",
       "      <td>IGUCNvHlhfHpROGclCit</td>\n",
       "      <td>mobile</td>\n",
       "      <td>Android</td>\n",
       "      <td>Samsung</td>\n",
       "      <td>NaN</td>\n",
       "      <td>385x854</td>\n",
       "      <td>Samsung Internet</td>\n",
       "      <td>Russia</td>\n",
       "      <td>Moscow</td>\n",
       "    </tr>\n",
       "    <tr>\n",
       "      <th>2</th>\n",
       "      <td>9055446045651783499.1640648526.1640648526</td>\n",
       "      <td>2108385331.1640648523</td>\n",
       "      <td>2021-12-28</td>\n",
       "      <td>02:42:06</td>\n",
       "      <td>1</td>\n",
       "      <td>ZpYIoDJMcFzVoPFsHGJL</td>\n",
       "      <td>banner</td>\n",
       "      <td>LEoPHuyFvzoNfnzGgfcd</td>\n",
       "      <td>vCIpmpaGBnIQhyYNkXqp</td>\n",
       "      <td>puhZPIYqKXeFPaUviSjo</td>\n",
       "      <td>mobile</td>\n",
       "      <td>Android</td>\n",
       "      <td>Huawei</td>\n",
       "      <td>NaN</td>\n",
       "      <td>360x720</td>\n",
       "      <td>Chrome</td>\n",
       "      <td>Russia</td>\n",
       "      <td>Krasnoyarsk</td>\n",
       "    </tr>\n",
       "    <tr>\n",
       "      <th>3</th>\n",
       "      <td>9055447046360770272.1622255328.1622255328</td>\n",
       "      <td>2108385564.1622255328</td>\n",
       "      <td>2021-05-29</td>\n",
       "      <td>05:00:00</td>\n",
       "      <td>1</td>\n",
       "      <td>kjsLglQLzykiRbcDiGcD</td>\n",
       "      <td>cpc</td>\n",
       "      <td>NaN</td>\n",
       "      <td>NOBKLgtuvqYWkXQHeYWM</td>\n",
       "      <td>NaN</td>\n",
       "      <td>mobile</td>\n",
       "      <td>NaN</td>\n",
       "      <td>Xiaomi</td>\n",
       "      <td>NaN</td>\n",
       "      <td>393x786</td>\n",
       "      <td>Chrome</td>\n",
       "      <td>Russia</td>\n",
       "      <td>Moscow</td>\n",
       "    </tr>\n",
       "    <tr>\n",
       "      <th>4</th>\n",
       "      <td>9055447046360770272.1622255345.1622255345</td>\n",
       "      <td>2108385564.1622255328</td>\n",
       "      <td>2021-05-29</td>\n",
       "      <td>05:00:00</td>\n",
       "      <td>2</td>\n",
       "      <td>kjsLglQLzykiRbcDiGcD</td>\n",
       "      <td>cpc</td>\n",
       "      <td>NaN</td>\n",
       "      <td>NaN</td>\n",
       "      <td>NaN</td>\n",
       "      <td>mobile</td>\n",
       "      <td>NaN</td>\n",
       "      <td>Xiaomi</td>\n",
       "      <td>NaN</td>\n",
       "      <td>393x786</td>\n",
       "      <td>Chrome</td>\n",
       "      <td>Russia</td>\n",
       "      <td>Moscow</td>\n",
       "    </tr>\n",
       "  </tbody>\n",
       "</table>\n",
       "</div>"
      ],
      "text/plain": [
       "                                  session_id              client_id  \\\n",
       "0  9055434745589932991.1637753792.1637753792  2108382700.1637753791   \n",
       "1   905544597018549464.1636867290.1636867290   210838531.1636867288   \n",
       "2  9055446045651783499.1640648526.1640648526  2108385331.1640648523   \n",
       "3  9055447046360770272.1622255328.1622255328  2108385564.1622255328   \n",
       "4  9055447046360770272.1622255345.1622255345  2108385564.1622255328   \n",
       "\n",
       "   visit_date visit_time  visit_number            utm_source utm_medium  \\\n",
       "0  2021-11-24   14:36:32             1  ZpYIoDJMcFzVoPFsHGJL     banner   \n",
       "1  2021-11-14   08:21:30             1  MvfHsxITijuriZxsqZqt        cpm   \n",
       "2  2021-12-28   02:42:06             1  ZpYIoDJMcFzVoPFsHGJL     banner   \n",
       "3  2021-05-29   05:00:00             1  kjsLglQLzykiRbcDiGcD        cpc   \n",
       "4  2021-05-29   05:00:00             2  kjsLglQLzykiRbcDiGcD        cpc   \n",
       "\n",
       "           utm_campaign         utm_adcontent           utm_keyword  \\\n",
       "0  LEoPHuyFvzoNfnzGgfcd  vCIpmpaGBnIQhyYNkXqp  puhZPIYqKXeFPaUviSjo   \n",
       "1  FTjNLDyTrXaWYgZymFkV  xhoenQgDQsgfEPYNPwKO  IGUCNvHlhfHpROGclCit   \n",
       "2  LEoPHuyFvzoNfnzGgfcd  vCIpmpaGBnIQhyYNkXqp  puhZPIYqKXeFPaUviSjo   \n",
       "3                   NaN  NOBKLgtuvqYWkXQHeYWM                   NaN   \n",
       "4                   NaN                   NaN                   NaN   \n",
       "\n",
       "  device_category device_os device_brand device_model  \\\n",
       "0          mobile   Android       Huawei          NaN   \n",
       "1          mobile   Android      Samsung          NaN   \n",
       "2          mobile   Android       Huawei          NaN   \n",
       "3          mobile       NaN       Xiaomi          NaN   \n",
       "4          mobile       NaN       Xiaomi          NaN   \n",
       "\n",
       "  device_screen_resolution    device_browser geo_country     geo_city  \n",
       "0                  360x720            Chrome      Russia     Zlatoust  \n",
       "1                  385x854  Samsung Internet      Russia       Moscow  \n",
       "2                  360x720            Chrome      Russia  Krasnoyarsk  \n",
       "3                  393x786            Chrome      Russia       Moscow  \n",
       "4                  393x786            Chrome      Russia       Moscow  "
      ]
     },
     "execution_count": 25,
     "metadata": {},
     "output_type": "execute_result"
    }
   ],
   "source": [
    "# Датафрейм с визитами на сайт\n",
    "df_sessions = pd.read_csv('data/ga_sessions.csv', low_memory=False)\n",
    "df_sessions.head()"
   ]
  },
  {
   "cell_type": "code",
   "execution_count": 26,
   "id": "ff27d012-23ec-4341-8c23-ade6038d1b21",
   "metadata": {},
   "outputs": [
    {
     "data": {
      "text/plain": [
       "(1860042, 18)"
      ]
     },
     "execution_count": 26,
     "metadata": {},
     "output_type": "execute_result"
    }
   ],
   "source": [
    "# Размерность датафрейма\n",
    "df_sessions.shape"
   ]
  },
  {
   "cell_type": "code",
   "execution_count": 27,
   "id": "a7d68665-bff7-475f-8658-824c95f8beba",
   "metadata": {},
   "outputs": [
    {
     "name": "stdout",
     "output_type": "stream",
     "text": [
      "<class 'pandas.core.frame.DataFrame'>\n",
      "RangeIndex: 1860042 entries, 0 to 1860041\n",
      "Data columns (total 18 columns):\n",
      " #   Column                    Non-Null Count    Dtype \n",
      "---  ------                    --------------    ----- \n",
      " 0   session_id                1860042 non-null  object\n",
      " 1   client_id                 1860042 non-null  object\n",
      " 2   visit_date                1860042 non-null  object\n",
      " 3   visit_time                1860042 non-null  object\n",
      " 4   visit_number              1860042 non-null  int64 \n",
      " 5   utm_source                1859945 non-null  object\n",
      " 6   utm_medium                1860042 non-null  object\n",
      " 7   utm_campaign              1640439 non-null  object\n",
      " 8   utm_adcontent             1524427 non-null  object\n",
      " 9   utm_keyword               777981 non-null   object\n",
      " 10  device_category           1860042 non-null  object\n",
      " 11  device_os                 789904 non-null   object\n",
      " 12  device_brand              1492864 non-null  object\n",
      " 13  device_model              16338 non-null    object\n",
      " 14  device_screen_resolution  1860042 non-null  object\n",
      " 15  device_browser            1860042 non-null  object\n",
      " 16  geo_country               1860042 non-null  object\n",
      " 17  geo_city                  1860042 non-null  object\n",
      "dtypes: int64(1), object(17)\n",
      "memory usage: 255.4+ MB\n"
     ]
    }
   ],
   "source": [
    "# Информация о датафрейме\n",
    "df_sessions.info(show_counts=True)"
   ]
  },
  {
   "cell_type": "code",
   "execution_count": 28,
   "id": "545e8fbb-8a9c-43f1-9534-92637b444a86",
   "metadata": {
    "scrolled": true
   },
   "outputs": [
    {
     "name": "stdout",
     "output_type": "stream",
     "text": [
      "session_id\n",
      "9055434745589932991.1637753792.1637753792    1\n",
      "6294640354816492625.1638728787.1638728809    1\n",
      "6294832296889291185.1623245519.1623245519    1\n",
      "6294832296889291185.1623161065.1623161065    1\n",
      "6294832296889291185.1623156608.1623156608    1\n",
      "                                            ..\n",
      "3525580570051063315.1625927189.1625927189    1\n",
      "3525573324456022940.1640876964.1640876964    1\n",
      "3525573324456022940.1640837067.1640837067    1\n",
      "3525573324456022940.1640715164.1640715164    1\n",
      "9055430416266113553.1640968742.1640968742    1\n",
      "Name: count, Length: 1860042, dtype: int64\n",
      "client_id\n",
      "1750498477.1629450062    462\n",
      "130918396.1628014141     334\n",
      "1266574870.1623140118    309\n",
      "736859557.1619557452     306\n",
      "1894772482.1621860860    276\n",
      "                        ... \n",
      "878941885.1625317311       1\n",
      "878939941.1634822476       1\n",
      "878939745.1621890533       1\n",
      "878933864.1624201491       1\n",
      "2108381692.1640968721      1\n",
      "Name: count, Length: 1391719, dtype: int64\n",
      "visit_date\n",
      "2021-05-24    39453\n",
      "2021-12-21    30704\n",
      "2021-05-25    19305\n",
      "2021-06-29    17367\n",
      "2021-09-14    16204\n",
      "              ...  \n",
      "2021-06-05     2102\n",
      "2021-05-23     1246\n",
      "2021-05-21     1110\n",
      "2021-05-22      986\n",
      "2021-05-19      877\n",
      "Name: count, Length: 226, dtype: int64\n",
      "visit_time\n",
      "12:00:00    61067\n",
      "13:00:00    61002\n",
      "10:00:00    60211\n",
      "14:00:00    60178\n",
      "11:00:00    59887\n",
      "            ...  \n",
      "02:51:41        1\n",
      "03:55:15        1\n",
      "03:52:54        1\n",
      "03:44:17        1\n",
      "04:30:09        1\n",
      "Name: count, Length: 85318, dtype: int64\n",
      "visit_number\n",
      "1      1376349\n",
      "2       235656\n",
      "3        81068\n",
      "4        41666\n",
      "5        24271\n",
      "        ...   \n",
      "419          1\n",
      "420          1\n",
      "421          1\n",
      "422          1\n",
      "564          1\n",
      "Name: count, Length: 537, dtype: int64\n",
      "utm_source\n",
      "ZpYIoDJMcFzVoPFsHGJL    578290\n",
      "fDLlAcSmythWSCVMvqvL    300575\n",
      "kjsLglQLzykiRbcDiGcD    266354\n",
      "MvfHsxITijuriZxsqZqt    186199\n",
      "BHcvLfOaCWvWTykYqHVe    116320\n",
      "                         ...  \n",
      "GYkgJdhSxirUFPHFiYSe         1\n",
      "WRHPhoRKhKxaenRCLBfo         1\n",
      "tjKUGseGMhkLEzdCqBRx         1\n",
      "wpmatvDuiMutnvmNVPJo         1\n",
      "BellrslNBZQZaIxVFGXJ         1\n",
      "Name: count, Length: 293, dtype: int64\n",
      "utm_medium\n",
      "banner               552272\n",
      "cpc                  434794\n",
      "(none)               300575\n",
      "cpm                  242083\n",
      "referral             152050\n",
      "organic               63034\n",
      "email                 29240\n",
      "push                  28035\n",
      "stories               10582\n",
      "cpv                    8022\n",
      "blogger_channel        8015\n",
      "smartbanner            6794\n",
      "blogger_stories        4312\n",
      "cpa                    4279\n",
      "tg                     4011\n",
      "app                    2836\n",
      "post                   2326\n",
      "smm                    1985\n",
      "outlook                1332\n",
      "clicks                  934\n",
      "blogger_header          771\n",
      "(not set)               480\n",
      "info_text               343\n",
      "sms                     239\n",
      "landing                 134\n",
      "partner                  97\n",
      "fb_smm                   66\n",
      "vk_smm                   65\n",
      "link                     57\n",
      "cbaafe                   47\n",
      "CPM                      40\n",
      "yandex_cpc               36\n",
      "ok_smm                   28\n",
      "static                   22\n",
      "google_cpc               20\n",
      "article                  17\n",
      "nkp                      14\n",
      "web_polka                11\n",
      "social                    9\n",
      "medium                    8\n",
      "main_polka                4\n",
      "catalogue                 4\n",
      "users_msk                 3\n",
      "reach                     2\n",
      "promo_sber                2\n",
      "linktest                  2\n",
      "promo_sbol                1\n",
      "Sbol_catalog              1\n",
      "desktop                   1\n",
      "dom_click                 1\n",
      "tablet                    1\n",
      "sber_app                  1\n",
      "last                      1\n",
      "qr                        1\n",
      "qrcodevideo               1\n",
      "landing_interests         1\n",
      "Name: count, dtype: int64\n",
      "utm_campaign\n",
      "LTuZkdKfxRGVceoWkVyg    463481\n",
      "LEoPHuyFvzoNfnzGgfcd    324044\n",
      "FTjNLDyTrXaWYgZymFkV    247360\n",
      "gecBYcKZCPMcVYdSSzKP    134042\n",
      "TmThBvoCcwkCZZUWACYq     26597\n",
      "                         ...  \n",
      "cqgnjDbqrtCipVvzhxqa         1\n",
      "AdtHYglxfCpTpwZeTAuW         1\n",
      "pcvPxfVFaAmhwFmvIeYd         1\n",
      "qPDTdivQVeflLjTYIJnG         1\n",
      "cXxuwXPoQCvAXPHpFcZl         1\n",
      "Name: count, Length: 412, dtype: int64\n",
      "utm_adcontent\n",
      "JNHcPlZPxEMWDnRiyoBf    1006599\n",
      "vCIpmpaGBnIQhyYNkXqp     181048\n",
      "xhoenQgDQsgfEPYNPwKO     113072\n",
      "PkybGvWbaqORmxjNunqZ      60316\n",
      "LLfCasrxQzJIyuldcuWy      24222\n",
      "                         ...   \n",
      "ryswqHdLvbezpDLjokYF          1\n",
      "gQEnaeQmOHisHSTEyzhp          1\n",
      "PlanrlymnpCeYvUrUTVJ          1\n",
      "WbXQsVOKLOcJrHikuQTZ          1\n",
      "oJivRDNIrrOckRBIKOtG          1\n",
      "Name: count, Length: 286, dtype: int64\n",
      "utm_keyword\n",
      "puhZPIYqKXeFPaUviSjo    506819\n",
      "aXQzDWsJuGXeBXexNHjc     24241\n",
      "pHqgLcdBQPSLcrTpLkdr     13767\n",
      "ITfrGJNwVsHBGJMAKoct     13353\n",
      "hAmNSZmQkKQKAjZEGlgb     11297\n",
      "                         ...  \n",
      "XsuVVTgiDIxZtndPjvDm         1\n",
      "WhaUakldaAmpLumfaADO         1\n",
      "nJVPLgfxsBtPAXttNVDI         1\n",
      "nwKBdMZKktIQFvhZwbFe         1\n",
      "fcXWTQaKfxbkBkBnzLhK         1\n",
      "Name: count, Length: 1219, dtype: int64\n",
      "device_category\n",
      "mobile     1474871\n",
      "desktop     366863\n",
      "tablet       18308\n",
      "Name: count, dtype: int64\n",
      "device_os\n",
      "Android          464054\n",
      "iOS              207104\n",
      "Windows           88307\n",
      "Macintosh         24824\n",
      "Linux              5120\n",
      "(not set)           364\n",
      "Chrome OS            83\n",
      "BlackBerry           27\n",
      "Tizen                 7\n",
      "Samsung               4\n",
      "Windows Phone         4\n",
      "Firefox OS            3\n",
      "Nokia                 3\n",
      "Name: count, dtype: int64\n",
      "device_brand\n",
      "Apple       551088\n",
      "Samsung     332194\n",
      "Xiaomi      288367\n",
      "Huawei      185853\n",
      "Realme       19058\n",
      "             ...  \n",
      "Vodafone         1\n",
      "Wexler           1\n",
      "KingSing         1\n",
      "Star             1\n",
      "Opera            1\n",
      "Name: count, Length: 205, dtype: int64\n",
      "device_model\n",
      "AuMdmADEIoPXiWpTsBEj    9778\n",
      "tWBQlsvNfHxRUjaPAfhd     653\n",
      "cwMJxNXiWUgMUxGiCTPs     651\n",
      "pTgAEPipQxDXCjPrJbHo     461\n",
      "FJApgTrMAGHoxCxQVKws     372\n",
      "                        ... \n",
      "foPJGhraIZhogREKtYLR       1\n",
      "qmRODeCJLlmkmwxNYXvp       1\n",
      "MBGYWAQSYWUphNxTsAWD       1\n",
      "aWSBcBZlKorTFjJGlWKG       1\n",
      "VDidzTqFGxuqiRQJGrwB       1\n",
      "Name: count, Length: 104, dtype: int64\n",
      "device_screen_resolution\n",
      "414x896      169090\n",
      "1920x1080    125768\n",
      "375x812      117944\n",
      "393x851      115454\n",
      "375x667       93341\n",
      "              ...  \n",
      "2262x1553         1\n",
      "1097x617          1\n",
      "421x847           1\n",
      "1791x1007         1\n",
      "464x1123          1\n",
      "Name: count, Length: 5039, dtype: int64\n",
      "device_browser\n",
      "Chrome                              1013436\n",
      "Safari                               478562\n",
      "YaBrowser                            133311\n",
      "Safari (in-app)                       69912\n",
      "Android Webview                       55369\n",
      "Samsung Internet                      47309\n",
      "Opera                                 26817\n",
      "Firefox                               16588\n",
      "Edge                                  16065\n",
      "UC Browser                              871\n",
      "Android Runtime                         392\n",
      "Mozilla Compatible Agent                362\n",
      "[FBAN                                   269\n",
      "Instagram 208.0.0.32.135 Android        140\n",
      "Instagram 209.0.0.21.119 Android        111\n",
      "MRCHROME                                 77\n",
      "Android Browser                          49\n",
      "Opera Mini                               45\n",
      "Puffin                                   45\n",
      "Internet Explorer                        36\n",
      "Maxthon                                  31\n",
      "Android                                  22\n",
      "Instagram 216.1.0.21.137 Android         19\n",
      "Mozilla                                  17\n",
      "(not set)                                17\n",
      "Instagram 216.0.0.12.135                 17\n",
      "Instagram 202.0.0.23.119                 17\n",
      "Instagram 194.0.0.36.172 Android         15\n",
      "Instagram 207.0.0.28.118                 14\n",
      "Instagram 202.0.0.37.123 Android         12\n",
      "com.vk.vkclient                           8\n",
      "Instagram 192.0.0.37.119                  7\n",
      "Amazon Silk                               7\n",
      "helloworld                                6\n",
      "Coc Coc                                   6\n",
      "Instagram 213.0.0.19.117                  6\n",
      "Instagram 203.0.0.26.117                  6\n",
      "Instagram 212.0.0.38.119 Android          6\n",
      "Instagram 201.0.0.23.111                  5\n",
      "Instagram 213.0.0.29.120 Android          5\n",
      "Instagram 208.0.0.26.131                  5\n",
      "SeaMonkey                                 4\n",
      "Instagram 192.0.0.35.123 Android          3\n",
      "Instagram 158.0.0.30.123 Android          3\n",
      "MyApp                                     2\n",
      "Iron                                      2\n",
      "Instagram 199.0.0.27.120                  2\n",
      "NetFront                                  2\n",
      "Instagram 199.1.0.34.119 Android          2\n",
      "com.zhiliaoapp.musically                  1\n",
      "Konqueror                                 1\n",
      "NokiaX2-02                                1\n",
      "Phantom Browser                           1\n",
      "Instagram 206.1.0.34.121 Android          1\n",
      "Nokia501                                  1\n",
      "MT6735_TD                                 1\n",
      "Threads 202.0.0.23.119                    1\n",
      "Name: count, dtype: int64\n",
      "geo_country\n",
      "Russia                 1800565\n",
      "United States            11784\n",
      "Ukraine                   9012\n",
      "Ireland                   4034\n",
      "Belarus                   3636\n",
      "                        ...   \n",
      "Zambia                       1\n",
      "Malawi                       1\n",
      "Réunion                      1\n",
      "Barbados                     1\n",
      "Congo - Brazzaville          1\n",
      "Name: count, Length: 166, dtype: int64\n",
      "geo_city\n",
      "Moscow              805329\n",
      "Saint Petersburg    296788\n",
      "(not set)            78172\n",
      "Yekaterinburg        35788\n",
      "Krasnodar            32243\n",
      "                     ...  \n",
      "Sherbrooke               1\n",
      "Albion                   1\n",
      "Bornheim                 1\n",
      "Huntley                  1\n",
      "Sommerda                 1\n",
      "Name: count, Length: 2548, dtype: int64\n"
     ]
    }
   ],
   "source": [
    "# Обзор значений столбцов\n",
    "for col in df_sessions.columns:\n",
    "    print(df_sessions[col].value_counts())"
   ]
  },
  {
   "cell_type": "code",
   "execution_count": 29,
   "id": "35948104-9834-4eab-a801-5c9f3c48d6a5",
   "metadata": {},
   "outputs": [
    {
     "data": {
      "text/plain": [
       "0"
      ]
     },
     "execution_count": 29,
     "metadata": {},
     "output_type": "execute_result"
    }
   ],
   "source": [
    "# Наличие дубликатов\n",
    "df_sessions.duplicated().sum()"
   ]
  },
  {
   "cell_type": "code",
   "execution_count": 30,
   "id": "bde8d1a5-ec0f-475b-9494-e905cf722c26",
   "metadata": {
    "scrolled": true
   },
   "outputs": [
    {
     "name": "stdout",
     "output_type": "stream",
     "text": [
      "Процент пропущенных значений:\n"
     ]
    },
    {
     "data": {
      "text/plain": [
       "device_model                99.12\n",
       "utm_keyword                 58.17\n",
       "device_os                   57.53\n",
       "device_brand                19.74\n",
       "utm_adcontent               18.04\n",
       "utm_campaign                11.81\n",
       "utm_source                   0.01\n",
       "geo_country                  0.00\n",
       "device_browser               0.00\n",
       "device_screen_resolution     0.00\n",
       "session_id                   0.00\n",
       "device_category              0.00\n",
       "client_id                    0.00\n",
       "utm_medium                   0.00\n",
       "visit_number                 0.00\n",
       "visit_time                   0.00\n",
       "visit_date                   0.00\n",
       "geo_city                     0.00\n",
       "dtype: float64"
      ]
     },
     "execution_count": 30,
     "metadata": {},
     "output_type": "execute_result"
    }
   ],
   "source": [
    "# Пропущенные значения\n",
    "missing_values = round(((df_sessions.isna().sum() / len(df_sessions)) * 100).sort_values(ascending=False), 2)\n",
    "\n",
    "print('Процент пропущенных значений:')\n",
    "missing_values"
   ]
  },
  {
   "cell_type": "code",
   "execution_count": 31,
   "id": "15d4ba6d-d8b3-42a3-ac7f-e2d531f8be65",
   "metadata": {
    "scrolled": true
   },
   "outputs": [
    {
     "data": {
      "text/plain": [
       "array([nan, 'qBRdfuuhOnnqwSqNiPOv', 'AshpvdJdReafUzEMmWGr',\n",
       "       'AuMdmADEIoPXiWpTsBEj', 'pcvPxfVFaAmhwFmvIeYd',\n",
       "       'mzJXHtJPIOSHoHtgezIA', 'pTgAEPipQxDXCjPrJbHo',\n",
       "       'IiVVIXFnNMwpBtuHILvS', 'FJApgTrMAGHoxCxQVKws',\n",
       "       'tfPZFRbtlzEssBEesRwM', 'tWBQlsvNfHxRUjaPAfhd',\n",
       "       'cwMJxNXiWUgMUxGiCTPs', 'zFCiMWkbbAhTflrlLWnz',\n",
       "       'phrsMxwuvNvYsPYNbKkL', 'QIRMJBHwssjlXzlheRfO',\n",
       "       'CwplVZElsIzdKfSTHwma', 'auOrYtJwDXWlMwuBxhRC',\n",
       "       'kGgpyeEtacYWhzbuuWMR', 'DzXtLnggNbQSyyFLKlgY',\n",
       "       'HYwfQOXoovXynCsiUCVd', 'mSVMBvlHFgftJaQAZEdp',\n",
       "       'kpwoWlshUwRtxMMtxukt', 'opEZzhCrCCxqjKDmOcMK',\n",
       "       'FMeAKypVmqdjUhayrjne', 'lOMpyAuAISPFiAxjXIYM',\n",
       "       'kjULrCjbRVbJtOfWpmQI', 'adBSYqsJPBFluBxhXRzx',\n",
       "       'jXFxTkHxuiBKWOvUtsIa', 'BhXucgFEfQMgSWpyKikP',\n",
       "       'ciZAODXEPQGDKvuEabGr', 'bwQQjmDtGgrbnrREsYSG',\n",
       "       'JAIKWwxRffFOXQcfGTVi', 'XoFyyEyrxZQbFrIVBGJU',\n",
       "       'oLPSmNOyoeTqtTUhnNIq', 'wsPZygnUifLMgkSEnWLj',\n",
       "       'wOpkmMMUmanXnzWXmcFq', 'eZRFfVvdAEANFDdbkujh',\n",
       "       'YyqUacVclbjfhEXffQFl', 'EEnoZBXHUTLQhNvTLYel',\n",
       "       'gHPFJHVEyWmOlsGSbywQ', 'uHXfMzLHbndcYLwKJMPV',\n",
       "       'xZYEHLyYdGXkJENJpTtu', 'WjsFbaSQmnGghVzNcrpJ',\n",
       "       'aCLaTVQlHcXbUnQYQvIg', 'OJiWyBKOyDITzXCZRSMH',\n",
       "       'ZkRlaMsFhSBPslXBtfiG', 'NGNkCWwKgYFmiCCeZVxg',\n",
       "       'bZGRDuESNKqbvzmxXlpf', 'KUROllwAYyecYcjFOgAi',\n",
       "       'JGctjjnHmHZeOLjBUdBa', 'DuhIUfykJOltHmJKEmHA',\n",
       "       'WYZTTdhWPjttFYmcGjBP', 'qAQjHpYoRUxgMseGGEfL',\n",
       "       'sLQbYFRIWJPmCqXsQgTS', 'ftFxnRDRijjFNnJoXPMw',\n",
       "       'XnjPzKjkHmznVfULanbE', 'jWdGMEVrJZkHcVcJFAda',\n",
       "       'rTksOeVOQqJRyKCjcexB', 'FTAuYVNoYYxgvKMpKSLW',\n",
       "       'KaKTLTCMziqpJtMcEXkz', 'OSucmOyBXEpHCUNRuhuN',\n",
       "       'hSzHgWXfOZhXwHXOrXgd', 'VzoFtfHotWfgMqOvhhpk',\n",
       "       'QIKziXyAufrHMzeBTtlI', 'WpQWiuxAzSOBVgxHHdIY',\n",
       "       'zjEebiuHyqSWFKMwbgwQ', 'kwdmElMUPDZaLQdgjcsI',\n",
       "       'QzPMrfYhYSLYYPtPaBxI', 'ifwJecAlGiEmDdqlxOfb',\n",
       "       'hOSlJjNkbQLQMLcCEhkW', 'bIOFZrPZrfEFvdWvOiYU',\n",
       "       'WymtaMEpzzcbgnLOYVxw', 'YqFuzozZqJUwAiOSwtNy',\n",
       "       'LDCqZZOpaddysclyNkHj', 'oxpzlKvWgXXXyOclMrkW',\n",
       "       'lhoYkemXATyKyUwRAztp', 'wpMKhptHblpEnLMZvGir',\n",
       "       'uTDzCIDJDdgdnDlBOjJZ', 'CHEgAchdlTbIOcHAYzGk',\n",
       "       'aWSBcBZlKorTFjJGlWKG', 'TMDlgkQzhHCgECHRtiOW',\n",
       "       'hSpKAfxjbtPlBdqCUPEN', 'zcovoWIWBZLooJXEJyTD',\n",
       "       'hOhIHYHnDhUlkzDoZJdA', 'UBWdrePiTaaBAMHVHpOq',\n",
       "       'RmEBuqrriAfAVsLQQmhk', 'VDidzTqFGxuqiRQJGrwB',\n",
       "       'YhYIjUokafmjAtBGxFEZ', 'MBGYWAQSYWUphNxTsAWD',\n",
       "       'YTDFqIabKsQVGozQYoPf', 'qmRODeCJLlmkmwxNYXvp',\n",
       "       'foPJGhraIZhogREKtYLR', 'ZCFvDdRaCVwsuCIbnPOf',\n",
       "       'niQdLVcBlNylrEuNcCYH', 'JNHcPlZPxEMWDnRiyoBf',\n",
       "       'dKEqQIppnqmEbdtpiTSB', 'FoyKxqoerEIbJjsjmgpn',\n",
       "       'UvyzWsKbojrmlVrFRIgp', 'bTXLctmbbOJCWJiZDqSP',\n",
       "       'mhkBNBhsTwAvDUZdstnC', 'MbollXMuOxfwxhQmvVNl',\n",
       "       'OcbjxWiIiIrHRDLmliqt', 'xMYlmvNxReLFGfXkQTYj',\n",
       "       'vybTbTvsqxkeqykOdEPH', 'PGJlcQwncXKgOzNKZdeF'], dtype=object)"
      ]
     },
     "execution_count": 31,
     "metadata": {},
     "output_type": "execute_result"
    }
   ],
   "source": [
    "# Уникальные значения device_model\n",
    "df_sessions.device_model.unique()"
   ]
  },
  {
   "cell_type": "code",
   "execution_count": 32,
   "id": "e5bcf884-f63a-476e-a943-7f696ea2c48e",
   "metadata": {},
   "outputs": [
    {
     "data": {
      "text/plain": [
       "104"
      ]
     },
     "execution_count": 32,
     "metadata": {},
     "output_type": "execute_result"
    }
   ],
   "source": [
    "# Количество уникальных значений device_model\n",
    "df_sessions.device_model.nunique()"
   ]
  },
  {
   "cell_type": "code",
   "execution_count": 33,
   "id": "9541319d-b157-4d20-aa29-ab9cd86ccfea",
   "metadata": {},
   "outputs": [],
   "source": [
    "# Заполнение пустых значений device_model значением other\n",
    "df_sessions.device_model = df_sessions.device_model.fillna('other')"
   ]
  },
  {
   "cell_type": "code",
   "execution_count": 34,
   "id": "3b6f5753-bc4d-4379-ba85-7ca5c88f29d8",
   "metadata": {},
   "outputs": [
    {
     "data": {
      "text/plain": [
       "array(['puhZPIYqKXeFPaUviSjo', 'IGUCNvHlhfHpROGclCit', nan, ...,\n",
       "       'aCaBoYaQJPVffhjBQnut', 'RaeBwzCLChMDgYYukNOw',\n",
       "       'fcXWTQaKfxbkBkBnzLhK'], dtype=object)"
      ]
     },
     "execution_count": 34,
     "metadata": {},
     "output_type": "execute_result"
    }
   ],
   "source": [
    "# Уникальные значения utm_keyword\n",
    "df_sessions.utm_keyword.unique()"
   ]
  },
  {
   "cell_type": "code",
   "execution_count": 35,
   "id": "0ffaff5b-6bc4-40af-9190-610d2621c8a9",
   "metadata": {},
   "outputs": [
    {
     "data": {
      "text/plain": [
       "1219"
      ]
     },
     "execution_count": 35,
     "metadata": {},
     "output_type": "execute_result"
    }
   ],
   "source": [
    "# Количество уникальных значений utm_keyword\n",
    "df_sessions.utm_keyword.nunique()"
   ]
  },
  {
   "cell_type": "code",
   "execution_count": 36,
   "id": "3a32d2f3-a59e-4f85-9c34-b94e9b53b1d5",
   "metadata": {},
   "outputs": [],
   "source": [
    "# Заполнение пустых значений utm_keyword значением other\n",
    "df_sessions.utm_keyword = df_sessions.utm_keyword.fillna('other')"
   ]
  },
  {
   "cell_type": "code",
   "execution_count": 37,
   "id": "1a4c1262-5b6b-46f8-ae8a-74e7b4d280dd",
   "metadata": {},
   "outputs": [
    {
     "data": {
      "text/plain": [
       "array(['Android', nan, 'iOS', 'Windows', 'Linux', 'Macintosh',\n",
       "       '(not set)', 'Chrome OS', 'BlackBerry', 'Tizen', 'Firefox OS',\n",
       "       'Samsung', 'Windows Phone', 'Nokia'], dtype=object)"
      ]
     },
     "execution_count": 37,
     "metadata": {},
     "output_type": "execute_result"
    }
   ],
   "source": [
    "# Уникальные значения device_os\n",
    "df_sessions.device_os.unique()"
   ]
  },
  {
   "cell_type": "code",
   "execution_count": 38,
   "id": "9b3399c6-e77d-4dc7-97cd-827a332e3df5",
   "metadata": {},
   "outputs": [
    {
     "data": {
      "text/plain": [
       "device_os\n",
       "Android          464054\n",
       "iOS              207104\n",
       "Windows           88307\n",
       "Macintosh         24824\n",
       "Linux              5120\n",
       "(not set)           364\n",
       "Chrome OS            83\n",
       "BlackBerry           27\n",
       "Tizen                 7\n",
       "Samsung               4\n",
       "Windows Phone         4\n",
       "Firefox OS            3\n",
       "Nokia                 3\n",
       "Name: count, dtype: int64"
      ]
     },
     "execution_count": 38,
     "metadata": {},
     "output_type": "execute_result"
    }
   ],
   "source": [
    "# Уникальные значения device_os и их количество\n",
    "df_sessions.device_os.value_counts()"
   ]
  },
  {
   "cell_type": "code",
   "execution_count": 39,
   "id": "07270064-75cf-4c61-82fd-e350486aba23",
   "metadata": {},
   "outputs": [],
   "source": [
    "# Заполнение пустых значений device_os значением other\n",
    "df_sessions.device_os = df_sessions.device_os.fillna('other')"
   ]
  },
  {
   "cell_type": "code",
   "execution_count": 40,
   "id": "fd5a69d1-8169-4ed3-b244-f12ba32680f3",
   "metadata": {},
   "outputs": [],
   "source": [
    "# Удалим оставшиеся записи с пропущенными значениями\n",
    "df_sessions = df_sessions.dropna()"
   ]
  },
  {
   "cell_type": "code",
   "execution_count": 41,
   "id": "29797f2b-60ac-40a8-86e1-a09201946145",
   "metadata": {},
   "outputs": [],
   "source": [
    "# Создание новой колонки organic_traffic со значениями organic_traffic и paid_traffic\n",
    "df_sessions['organic_paid_traffic'] = df_sessions['utm_medium'].apply(lambda x: 'organic_traffic' if x in [\n",
    "    'organic', 'referral', '(none)'] else 'paid_traffic')"
   ]
  },
  {
   "cell_type": "code",
   "execution_count": 42,
   "id": "27166e74-a7e9-4c9f-831e-e9a58cec72d6",
   "metadata": {},
   "outputs": [],
   "source": [
    "# Создание новой колонки social_media со значениями social_media и not_social_media\n",
    "df_sessions['social_media'] = df_sessions['utm_source'].apply(lambda x: 'social_media' if x in ['QxAxdyPLuQMEcrdZWdWb', \\\n",
    "           'MvfHsxITijuriZxsqZqt', 'ISrKoXQCxqqYvAZICvjs', 'IZEXUFLARCUMynmHNBGo', 'PlbkrSYoHuZBWfYjYnfw', 'gVRrcxiDQubJiljoTbGm'] \\\n",
    "           else 'not_social_media')"
   ]
  },
  {
   "cell_type": "code",
   "execution_count": 43,
   "id": "bf946924-6f17-47bb-b879-8434621260bc",
   "metadata": {},
   "outputs": [],
   "source": [
    "# Создание новой колонки device_category_type со значениями mobile и desktop\n",
    "df_sessions['device_category_type'] = df_sessions['device_category'].apply(lambda x : 'mobile' if x in ['mobile', 'tablet'] else 'desktop')"
   ]
  },
  {
   "cell_type": "code",
   "execution_count": 44,
   "id": "cd2958ea-f798-48f3-ae17-1ce8cc72e6b2",
   "metadata": {},
   "outputs": [],
   "source": [
    "regions_presence = ['Saint Petersburg', \n",
    "                    'Moscow',\n",
    "                    'Podolsk',\n",
    "                    'Korolyov',\n",
    "                    'Kolomna',\n",
    "                    'Naro-Fominsk',\n",
    "                    'Dzerzhinsky',\n",
    "                    'Krasnogorsk',\n",
    "                    'Balashikha',\n",
    "                    'Dmitrov',\n",
    "                    'Sergiyev Posad',\n",
    "                    'Odintsovo',\n",
    "                    'Lobnya',\n",
    "                    'Yegoryevsk',\n",
    "                    'Kotelniki',\n",
    "                    'Mytishchi',\n",
    "                    'Zheleznodorozhny',\n",
    "                    'Serpukhov',\n",
    "                    'Shchyolkovo',\n",
    "                    'Vidnoye',\n",
    "                    'Khimki',\n",
    "                    'Golitsyno',\n",
    "                    'Ramenskoye',\n",
    "                    'Dubna',\n",
    "                    'Likino-Dulyovo',\n",
    "                    'Ivanteyevka',\n",
    "                    'LesnoyGorodok',\n",
    "                    'Istra',\n",
    "                    'Losino-Petrovsky',\n",
    "                    'SaintPetersburg',\n",
    "                    'Elektrogorsk',\n",
    "                    'Protvino',\n",
    "                    'Klimovsk',\n",
    "                    'Tomilino',\n",
    "                    'Petrovo-Dalneye',\n",
    "                    'Pushkino',\n",
    "                    'Orekhovo-Zuyevo',\n",
    "                    'Voskresensk',\n",
    "                    'Fryazino',\n",
    "                    'Kraskovo',\n",
    "                    'Khotkovo',\n",
    "                    'Kubinka',\n",
    "                    'Chernogolovka',\n",
    "                    'Dolgoprudny']\n",
    "df_sessions['region_of_presence'] = df_sessions['geo_city'].apply(lambda x : 'regions_presence' if x in regions_presence else 'not_regions_presence')"
   ]
  },
  {
   "cell_type": "code",
   "execution_count": 45,
   "id": "c8dadf7f-27ef-436d-983b-4aeac7916df4",
   "metadata": {},
   "outputs": [
    {
     "data": {
      "text/plain": [
       "session_id                  object\n",
       "client_id                   object\n",
       "visit_date                  object\n",
       "visit_time                  object\n",
       "visit_number                 int64\n",
       "utm_source                  object\n",
       "utm_medium                  object\n",
       "utm_campaign                object\n",
       "utm_adcontent               object\n",
       "utm_keyword                 object\n",
       "device_category             object\n",
       "device_os                   object\n",
       "device_brand                object\n",
       "device_model                object\n",
       "device_screen_resolution    object\n",
       "device_browser              object\n",
       "geo_country                 object\n",
       "geo_city                    object\n",
       "organic_paid_traffic        object\n",
       "social_media                object\n",
       "device_category_type        object\n",
       "region_of_presence          object\n",
       "dtype: object"
      ]
     },
     "execution_count": 45,
     "metadata": {},
     "output_type": "execute_result"
    }
   ],
   "source": [
    "# Типы данных столбцов df_sessions\n",
    "df_sessions.dtypes"
   ]
  },
  {
   "cell_type": "code",
   "execution_count": 46,
   "id": "e383b86e-78e9-45a3-a829-a980a4b81b8a",
   "metadata": {},
   "outputs": [],
   "source": [
    "# Преобразование типа данных visit_number в int32 для экономии памяти\n",
    "df_sessions['visit_number'] = df_sessions['visit_number'].astype('int32')"
   ]
  },
  {
   "cell_type": "code",
   "execution_count": 47,
   "id": "5891edd0-2110-4a39-8863-b711a2df4697",
   "metadata": {},
   "outputs": [],
   "source": [
    "# Преобразование типа данных visit_date и visit_time в datetime64[ns]\n",
    "df_sessions[['visit_date', 'visit_time']] = df_sessions[['visit_date', 'visit_time']].astype('datetime64[ns]')"
   ]
  },
  {
   "cell_type": "code",
   "execution_count": 48,
   "id": "5539e0b2-8c05-4c39-a0db-b618b914251f",
   "metadata": {},
   "outputs": [],
   "source": [
    "# Категориальные переменные для преобразования типа данных\n",
    "categorical = ['utm_medium', 'device_category', 'device_os', 'device_brand', 'device_model', 'device_screen_resolution', \\\n",
    "               'device_browser', 'geo_country', 'geo_city', 'organic_paid_traffic', 'social_media', 'device_category_type', \\\n",
    "               'region_of_presence']"
   ]
  },
  {
   "cell_type": "code",
   "execution_count": 49,
   "id": "14738159-8c67-4524-be67-11bac496ad8c",
   "metadata": {},
   "outputs": [],
   "source": [
    "# Преобразование типа данных в категориальный\n",
    "df_sessions[categorical] = df_sessions[categorical].astype('category')"
   ]
  },
  {
   "cell_type": "code",
   "execution_count": 50,
   "id": "90398a3f-5918-4dd5-a5d3-0ab850176635",
   "metadata": {},
   "outputs": [
    {
     "data": {
      "text/plain": [
       "session_id                          object\n",
       "client_id                           object\n",
       "visit_date                  datetime64[ns]\n",
       "visit_time                  datetime64[ns]\n",
       "visit_number                         int32\n",
       "utm_source                          object\n",
       "utm_medium                        category\n",
       "utm_campaign                        object\n",
       "utm_adcontent                       object\n",
       "utm_keyword                         object\n",
       "device_category                   category\n",
       "device_os                         category\n",
       "device_brand                      category\n",
       "device_model                      category\n",
       "device_screen_resolution          category\n",
       "device_browser                    category\n",
       "geo_country                       category\n",
       "geo_city                          category\n",
       "organic_paid_traffic              category\n",
       "social_media                      category\n",
       "device_category_type              category\n",
       "region_of_presence                category\n",
       "dtype: object"
      ]
     },
     "execution_count": 50,
     "metadata": {},
     "output_type": "execute_result"
    }
   ],
   "source": [
    "# Типы данных\n",
    "df_sessions.dtypes"
   ]
  },
  {
   "cell_type": "code",
   "execution_count": 51,
   "id": "802a9f1a-6479-4863-89e9-e49297aebf95",
   "metadata": {},
   "outputs": [
    {
     "data": {
      "text/plain": [
       "(15726470, 8)"
      ]
     },
     "execution_count": 51,
     "metadata": {},
     "output_type": "execute_result"
    }
   ],
   "source": [
    "# Размерность датафрейма df_hits\n",
    "df_hits.shape"
   ]
  },
  {
   "cell_type": "code",
   "execution_count": 52,
   "id": "59cb222e-76ca-43ba-b8b7-a8c3e2bc8958",
   "metadata": {},
   "outputs": [
    {
     "data": {
      "text/plain": [
       "(1230859, 22)"
      ]
     },
     "execution_count": 52,
     "metadata": {},
     "output_type": "execute_result"
    }
   ],
   "source": [
    "# Размерность датафрейма df_sessions\n",
    "df_sessions.shape"
   ]
  },
  {
   "cell_type": "code",
   "execution_count": 53,
   "id": "37089c08-12a8-482e-b40a-3747aeb30b8c",
   "metadata": {},
   "outputs": [
    {
     "data": {
      "text/html": [
       "<div>\n",
       "<style scoped>\n",
       "    .dataframe tbody tr th:only-of-type {\n",
       "        vertical-align: middle;\n",
       "    }\n",
       "\n",
       "    .dataframe tbody tr th {\n",
       "        vertical-align: top;\n",
       "    }\n",
       "\n",
       "    .dataframe thead th {\n",
       "        text-align: right;\n",
       "    }\n",
       "</style>\n",
       "<table border=\"1\" class=\"dataframe\">\n",
       "  <thead>\n",
       "    <tr style=\"text-align: right;\">\n",
       "      <th></th>\n",
       "      <th>session_id</th>\n",
       "      <th>hit_date</th>\n",
       "      <th>hit_number</th>\n",
       "      <th>hit_page_path</th>\n",
       "      <th>event_category</th>\n",
       "      <th>event_action</th>\n",
       "      <th>car_model</th>\n",
       "      <th>target_action</th>\n",
       "      <th>client_id</th>\n",
       "      <th>visit_date</th>\n",
       "      <th>visit_time</th>\n",
       "      <th>visit_number</th>\n",
       "      <th>utm_source</th>\n",
       "      <th>utm_medium</th>\n",
       "      <th>utm_campaign</th>\n",
       "      <th>utm_adcontent</th>\n",
       "      <th>utm_keyword</th>\n",
       "      <th>device_category</th>\n",
       "      <th>device_os</th>\n",
       "      <th>device_brand</th>\n",
       "      <th>device_model</th>\n",
       "      <th>device_screen_resolution</th>\n",
       "      <th>device_browser</th>\n",
       "      <th>geo_country</th>\n",
       "      <th>geo_city</th>\n",
       "      <th>organic_paid_traffic</th>\n",
       "      <th>social_media</th>\n",
       "      <th>device_category_type</th>\n",
       "      <th>region_of_presence</th>\n",
       "    </tr>\n",
       "  </thead>\n",
       "  <tbody>\n",
       "    <tr>\n",
       "      <th>0</th>\n",
       "      <td>7750352294969115059.1640271109.1640271109</td>\n",
       "      <td>2021-12-23</td>\n",
       "      <td>41</td>\n",
       "      <td>sberauto.com/cars/fiat?city=1&amp;city=18&amp;rental_c...</td>\n",
       "      <td>quiz</td>\n",
       "      <td>quiz_show</td>\n",
       "      <td>fiat</td>\n",
       "      <td>not_target_action</td>\n",
       "      <td>1804519513.1640268211</td>\n",
       "      <td>2021-12-23</td>\n",
       "      <td>2025-08-15 17:51:49</td>\n",
       "      <td>2</td>\n",
       "      <td>ZpYIoDJMcFzVoPFsHGJL</td>\n",
       "      <td>banner</td>\n",
       "      <td>zxoiLxhuSIFrCeTLQVWZ</td>\n",
       "      <td>JNHcPlZPxEMWDnRiyoBf</td>\n",
       "      <td>puhZPIYqKXeFPaUviSjo</td>\n",
       "      <td>mobile</td>\n",
       "      <td>Android</td>\n",
       "      <td>Xiaomi</td>\n",
       "      <td>other</td>\n",
       "      <td>393x851</td>\n",
       "      <td>Chrome</td>\n",
       "      <td>Russia</td>\n",
       "      <td>Chelyabinsk</td>\n",
       "      <td>paid_traffic</td>\n",
       "      <td>not_social_media</td>\n",
       "      <td>mobile</td>\n",
       "      <td>not_regions_presence</td>\n",
       "    </tr>\n",
       "    <tr>\n",
       "      <th>1</th>\n",
       "      <td>281215510786615563.1640245516.1640245516</td>\n",
       "      <td>2021-12-23</td>\n",
       "      <td>102</td>\n",
       "      <td>sberauto.com/cars/toyota?isnew=false&amp;rental_ca...</td>\n",
       "      <td>quiz</td>\n",
       "      <td>quiz_show</td>\n",
       "      <td>toyota</td>\n",
       "      <td>not_target_action</td>\n",
       "      <td>65475588.1640245515</td>\n",
       "      <td>2021-12-23</td>\n",
       "      <td>2025-08-15 10:45:16</td>\n",
       "      <td>1</td>\n",
       "      <td>ZpYIoDJMcFzVoPFsHGJL</td>\n",
       "      <td>banner</td>\n",
       "      <td>LEoPHuyFvzoNfnzGgfcd</td>\n",
       "      <td>vCIpmpaGBnIQhyYNkXqp</td>\n",
       "      <td>puhZPIYqKXeFPaUviSjo</td>\n",
       "      <td>mobile</td>\n",
       "      <td>iOS</td>\n",
       "      <td>Apple</td>\n",
       "      <td>other</td>\n",
       "      <td>375x812</td>\n",
       "      <td>Safari</td>\n",
       "      <td>Russia</td>\n",
       "      <td>Vladivostok</td>\n",
       "      <td>paid_traffic</td>\n",
       "      <td>not_social_media</td>\n",
       "      <td>mobile</td>\n",
       "      <td>not_regions_presence</td>\n",
       "    </tr>\n",
       "    <tr>\n",
       "      <th>2</th>\n",
       "      <td>5636135307570360848.1640280592.1640280592</td>\n",
       "      <td>2021-12-23</td>\n",
       "      <td>3</td>\n",
       "      <td>sberauto.com/cars/all/renault/duster/145d53f1?...</td>\n",
       "      <td>card_web</td>\n",
       "      <td>view_card</td>\n",
       "      <td>renault</td>\n",
       "      <td>not_target_action</td>\n",
       "      <td>1312265011.1640280592</td>\n",
       "      <td>2021-12-23</td>\n",
       "      <td>2025-08-15 20:29:52</td>\n",
       "      <td>1</td>\n",
       "      <td>fDLlAcSmythWSCVMvqvL</td>\n",
       "      <td>(none)</td>\n",
       "      <td>LTuZkdKfxRGVceoWkVyg</td>\n",
       "      <td>JNHcPlZPxEMWDnRiyoBf</td>\n",
       "      <td>puhZPIYqKXeFPaUviSjo</td>\n",
       "      <td>mobile</td>\n",
       "      <td>iOS</td>\n",
       "      <td>Apple</td>\n",
       "      <td>other</td>\n",
       "      <td>375x812</td>\n",
       "      <td>YaBrowser</td>\n",
       "      <td>Russia</td>\n",
       "      <td>Moscow</td>\n",
       "      <td>organic_traffic</td>\n",
       "      <td>not_social_media</td>\n",
       "      <td>mobile</td>\n",
       "      <td>regions_presence</td>\n",
       "    </tr>\n",
       "    <tr>\n",
       "      <th>3</th>\n",
       "      <td>951771360093549217.1640247969.1640247969</td>\n",
       "      <td>2021-12-23</td>\n",
       "      <td>3</td>\n",
       "      <td>client.saptest.sberauto-team.com/cars/all/merc...</td>\n",
       "      <td>card_web</td>\n",
       "      <td>view_card</td>\n",
       "      <td>mercedes-benz</td>\n",
       "      <td>not_target_action</td>\n",
       "      <td>221601538.1640247969</td>\n",
       "      <td>2021-12-23</td>\n",
       "      <td>2025-08-15 11:26:09</td>\n",
       "      <td>1</td>\n",
       "      <td>fDLlAcSmythWSCVMvqvL</td>\n",
       "      <td>(none)</td>\n",
       "      <td>LTuZkdKfxRGVceoWkVyg</td>\n",
       "      <td>JNHcPlZPxEMWDnRiyoBf</td>\n",
       "      <td>puhZPIYqKXeFPaUviSjo</td>\n",
       "      <td>mobile</td>\n",
       "      <td>iOS</td>\n",
       "      <td>Apple</td>\n",
       "      <td>other</td>\n",
       "      <td>428x926</td>\n",
       "      <td>Chrome</td>\n",
       "      <td>Russia</td>\n",
       "      <td>Korolyov</td>\n",
       "      <td>organic_traffic</td>\n",
       "      <td>not_social_media</td>\n",
       "      <td>mobile</td>\n",
       "      <td>regions_presence</td>\n",
       "    </tr>\n",
       "    <tr>\n",
       "      <th>4</th>\n",
       "      <td>8052362820286977556.1640273512.1640273512</td>\n",
       "      <td>2021-12-23</td>\n",
       "      <td>5</td>\n",
       "      <td>sberauto.com/cars/all/bmw/5-serii/eb5698f6?utm...</td>\n",
       "      <td>card_web</td>\n",
       "      <td>view_card</td>\n",
       "      <td>bmw</td>\n",
       "      <td>not_target_action</td>\n",
       "      <td>1874836818.1640273428</td>\n",
       "      <td>2021-12-23</td>\n",
       "      <td>2025-08-15 18:31:52</td>\n",
       "      <td>2</td>\n",
       "      <td>IZEXUFLARCUMynmHNBGo</td>\n",
       "      <td>blogger_channel</td>\n",
       "      <td>foFTSdUvNqqkPzZvgiqt</td>\n",
       "      <td>DZYjhfIUfdqhfuTNUmjn</td>\n",
       "      <td>puhZPIYqKXeFPaUviSjo</td>\n",
       "      <td>mobile</td>\n",
       "      <td>Android</td>\n",
       "      <td>Samsung</td>\n",
       "      <td>other</td>\n",
       "      <td>412x915</td>\n",
       "      <td>Chrome</td>\n",
       "      <td>Russia</td>\n",
       "      <td>Voronezh</td>\n",
       "      <td>paid_traffic</td>\n",
       "      <td>social_media</td>\n",
       "      <td>mobile</td>\n",
       "      <td>not_regions_presence</td>\n",
       "    </tr>\n",
       "  </tbody>\n",
       "</table>\n",
       "</div>"
      ],
      "text/plain": [
       "                                  session_id   hit_date  hit_number  \\\n",
       "0  7750352294969115059.1640271109.1640271109 2021-12-23          41   \n",
       "1   281215510786615563.1640245516.1640245516 2021-12-23         102   \n",
       "2  5636135307570360848.1640280592.1640280592 2021-12-23           3   \n",
       "3   951771360093549217.1640247969.1640247969 2021-12-23           3   \n",
       "4  8052362820286977556.1640273512.1640273512 2021-12-23           5   \n",
       "\n",
       "                                       hit_page_path event_category  \\\n",
       "0  sberauto.com/cars/fiat?city=1&city=18&rental_c...           quiz   \n",
       "1  sberauto.com/cars/toyota?isnew=false&rental_ca...           quiz   \n",
       "2  sberauto.com/cars/all/renault/duster/145d53f1?...       card_web   \n",
       "3  client.saptest.sberauto-team.com/cars/all/merc...       card_web   \n",
       "4  sberauto.com/cars/all/bmw/5-serii/eb5698f6?utm...       card_web   \n",
       "\n",
       "  event_action      car_model      target_action              client_id  \\\n",
       "0    quiz_show           fiat  not_target_action  1804519513.1640268211   \n",
       "1    quiz_show         toyota  not_target_action    65475588.1640245515   \n",
       "2    view_card        renault  not_target_action  1312265011.1640280592   \n",
       "3    view_card  mercedes-benz  not_target_action   221601538.1640247969   \n",
       "4    view_card            bmw  not_target_action  1874836818.1640273428   \n",
       "\n",
       "  visit_date          visit_time  visit_number            utm_source  \\\n",
       "0 2021-12-23 2025-08-15 17:51:49             2  ZpYIoDJMcFzVoPFsHGJL   \n",
       "1 2021-12-23 2025-08-15 10:45:16             1  ZpYIoDJMcFzVoPFsHGJL   \n",
       "2 2021-12-23 2025-08-15 20:29:52             1  fDLlAcSmythWSCVMvqvL   \n",
       "3 2021-12-23 2025-08-15 11:26:09             1  fDLlAcSmythWSCVMvqvL   \n",
       "4 2021-12-23 2025-08-15 18:31:52             2  IZEXUFLARCUMynmHNBGo   \n",
       "\n",
       "        utm_medium          utm_campaign         utm_adcontent  \\\n",
       "0           banner  zxoiLxhuSIFrCeTLQVWZ  JNHcPlZPxEMWDnRiyoBf   \n",
       "1           banner  LEoPHuyFvzoNfnzGgfcd  vCIpmpaGBnIQhyYNkXqp   \n",
       "2           (none)  LTuZkdKfxRGVceoWkVyg  JNHcPlZPxEMWDnRiyoBf   \n",
       "3           (none)  LTuZkdKfxRGVceoWkVyg  JNHcPlZPxEMWDnRiyoBf   \n",
       "4  blogger_channel  foFTSdUvNqqkPzZvgiqt  DZYjhfIUfdqhfuTNUmjn   \n",
       "\n",
       "            utm_keyword device_category device_os device_brand device_model  \\\n",
       "0  puhZPIYqKXeFPaUviSjo          mobile   Android       Xiaomi        other   \n",
       "1  puhZPIYqKXeFPaUviSjo          mobile       iOS        Apple        other   \n",
       "2  puhZPIYqKXeFPaUviSjo          mobile       iOS        Apple        other   \n",
       "3  puhZPIYqKXeFPaUviSjo          mobile       iOS        Apple        other   \n",
       "4  puhZPIYqKXeFPaUviSjo          mobile   Android      Samsung        other   \n",
       "\n",
       "  device_screen_resolution device_browser geo_country     geo_city  \\\n",
       "0                  393x851         Chrome      Russia  Chelyabinsk   \n",
       "1                  375x812         Safari      Russia  Vladivostok   \n",
       "2                  375x812      YaBrowser      Russia       Moscow   \n",
       "3                  428x926         Chrome      Russia     Korolyov   \n",
       "4                  412x915         Chrome      Russia     Voronezh   \n",
       "\n",
       "  organic_paid_traffic      social_media device_category_type  \\\n",
       "0         paid_traffic  not_social_media               mobile   \n",
       "1         paid_traffic  not_social_media               mobile   \n",
       "2      organic_traffic  not_social_media               mobile   \n",
       "3      organic_traffic  not_social_media               mobile   \n",
       "4         paid_traffic      social_media               mobile   \n",
       "\n",
       "     region_of_presence  \n",
       "0  not_regions_presence  \n",
       "1  not_regions_presence  \n",
       "2      regions_presence  \n",
       "3      regions_presence  \n",
       "4  not_regions_presence  "
      ]
     },
     "execution_count": 53,
     "metadata": {},
     "output_type": "execute_result"
    }
   ],
   "source": [
    "# Объединение датафреймов в единый датасет\n",
    "df = pd.merge(df_hits, df_sessions, on='session_id', how='inner')\n",
    "df.head()"
   ]
  },
  {
   "cell_type": "code",
   "execution_count": 54,
   "id": "99120866-acb6-4827-a2d7-e50ec56f486c",
   "metadata": {},
   "outputs": [
    {
     "data": {
      "text/plain": [
       "(9765584, 29)"
      ]
     },
     "execution_count": 54,
     "metadata": {},
     "output_type": "execute_result"
    }
   ],
   "source": [
    "# Размерность датасета\n",
    "df.shape"
   ]
  },
  {
   "cell_type": "code",
   "execution_count": 55,
   "id": "e76df99a-a4f2-45be-9298-4d25937e3418",
   "metadata": {},
   "outputs": [
    {
     "data": {
      "text/plain": [
       "session_id                  0\n",
       "social_media                0\n",
       "organic_paid_traffic        0\n",
       "geo_city                    0\n",
       "geo_country                 0\n",
       "device_browser              0\n",
       "device_screen_resolution    0\n",
       "device_model                0\n",
       "device_brand                0\n",
       "device_os                   0\n",
       "device_category             0\n",
       "utm_keyword                 0\n",
       "utm_adcontent               0\n",
       "device_category_type        0\n",
       "utm_campaign                0\n",
       "utm_source                  0\n",
       "visit_number                0\n",
       "visit_time                  0\n",
       "visit_date                  0\n",
       "client_id                   0\n",
       "target_action               0\n",
       "car_model                   0\n",
       "event_action                0\n",
       "event_category              0\n",
       "hit_page_path               0\n",
       "hit_number                  0\n",
       "hit_date                    0\n",
       "utm_medium                  0\n",
       "region_of_presence          0\n",
       "dtype: int64"
      ]
     },
     "execution_count": 55,
     "metadata": {},
     "output_type": "execute_result"
    }
   ],
   "source": [
    "# Пропущенные значения\n",
    "df.isna().sum().sort_values()"
   ]
  },
  {
   "cell_type": "code",
   "execution_count": 156,
   "id": "f6085f63-a08c-412f-b18c-bf8b485c02a4",
   "metadata": {},
   "outputs": [
    {
     "data": {
      "image/png": "[encoded data removed]",
      "text/plain": [
       "<Figure size 1200x600 with 1 Axes>"
      ]
     },
     "metadata": {},
     "output_type": "display_data"
    }
   ],
   "source": [
    "# Распределение типов устройств\n",
    "plt.figure(figsize=(12, 6))\n",
    "plt.ticklabel_format(style='plain')\n",
    "sns.countplot(df['device_category'], color='skyblue')\n",
    "plt.title('Распределение типов устройств')\n",
    "plt.show()"
   ]
  },
  {
   "cell_type": "markdown",
   "id": "6a6d3dc4-2454-41ed-9cec-7170659a86ce",
   "metadata": {},
   "source": [
    "Мобильные устройства преобладают среди остальных у пользователей сервиса."
   ]
  },
  {
   "cell_type": "code",
   "execution_count": 107,
   "id": "e03f22ef-3321-485b-9c68-3e31ce5c2617",
   "metadata": {},
   "outputs": [
    {
     "data": {
      "image/png": "[encoded data removed]",
      "text/plain": [
       "<Figure size 1200x600 with 1 Axes>"
      ]
     },
     "metadata": {},
     "output_type": "display_data"
    }
   ],
   "source": [
    "# Распределение типов действий\n",
    "plt.figure(figsize=(12, 6))\n",
    "plt.ticklabel_format(style='plain')\n",
    "sns.countplot(df['target_action'], color='skyblue')\n",
    "plt.title('Распределение типов действий')\n",
    "plt.show()"
   ]
  },
  {
   "cell_type": "markdown",
   "id": "d021d1e3-6713-4c5f-a08f-0558cf1ddaf7",
   "metadata": {},
   "source": [
    "Доля нецелевых действий преобладает над долей целевых действий."
   ]
  },
  {
   "cell_type": "code",
   "execution_count": 103,
   "id": "2844f617-6172-4422-a99b-05164f714618",
   "metadata": {},
   "outputs": [
    {
     "data": {
      "image/png": "[encoded data removed]",
      "text/plain": [
       "<Figure size 1200x600 with 1 Axes>"
      ]
     },
     "metadata": {},
     "output_type": "display_data"
    }
   ],
   "source": [
    "# Визуализация визитов по датам\n",
    "plt.figure(figsize=(12, 6))\n",
    "df.groupby('visit_date').size().plot()\n",
    "plt.title('Динамика визитов по датам')\n",
    "plt.xlabel('Дата')\n",
    "plt.ylabel('Количество визитов')\n",
    "plt.show()"
   ]
  },
  {
   "cell_type": "code",
   "execution_count": 104,
   "id": "86861826-6e26-44c5-8c5d-26de7fdda86c",
   "metadata": {},
   "outputs": [
    {
     "data": {
      "image/png": "[encoded data removed]",
      "text/plain": [
       "<Figure size 1200x600 with 1 Axes>"
      ]
     },
     "metadata": {},
     "output_type": "display_data"
    }
   ],
   "source": [
    "# Визуализация событий по датам\n",
    "plt.figure(figsize=(12, 6))\n",
    "df.groupby('hit_date').size().plot()\n",
    "plt.title('Динамика событий по датам')\n",
    "plt.xlabel('Дата')\n",
    "plt.ylabel('Количество событий')\n",
    "plt.show()"
   ]
  },
  {
   "cell_type": "markdown",
   "id": "b57671dc-ebaa-4c83-9265-7ddebb0b84d6",
   "metadata": {},
   "source": [
    "Графики визитов и событий по датам идентичны. Всплеск пользовательской активности наблюдается в июне 2021 года и в январе 2022 года."
   ]
  },
  {
   "cell_type": "markdown",
   "id": "d2b08ecc-4737-4b1e-a3a8-131cd6afe1b6",
   "metadata": {},
   "source": [
    "Проверим некоторые гипотезы."
   ]
  },
  {
   "cell_type": "markdown",
   "id": "ea9cb091-5b14-4924-a0b1-39eedc8b5ef5",
   "metadata": {},
   "source": [
    "H0: Органический трафик не отличается от платного с точки зрения CR (Conversion Rate) в целевые события.\n",
    "\n",
    "H1: CR органического и платного трафика различны."
   ]
  },
  {
   "cell_type": "code",
   "execution_count": 57,
   "id": "da867f48-7d71-4187-b9a2-0b2960f8c6f7",
   "metadata": {},
   "outputs": [
    {
     "data": {
      "text/plain": [
       "organic_paid_traffic  target_action    \n",
       "organic_traffic       not_target_action    3320388\n",
       "                      target_action          23720\n",
       "paid_traffic          not_target_action    6381988\n",
       "                      target_action          39488\n",
       "Name: session_id, dtype: int64"
      ]
     },
     "execution_count": 57,
     "metadata": {},
     "output_type": "execute_result"
    }
   ],
   "source": [
    "df.groupby(['organic_paid_traffic','target_action'], observed=False)['session_id'].count()"
   ]
  },
  {
   "cell_type": "code",
   "execution_count": 58,
   "id": "324066a3-6ed8-4db2-8a36-3b5ac156f0c6",
   "metadata": {},
   "outputs": [
    {
     "data": {
      "text/html": [
       "<div>\n",
       "<style scoped>\n",
       "    .dataframe tbody tr th:only-of-type {\n",
       "        vertical-align: middle;\n",
       "    }\n",
       "\n",
       "    .dataframe tbody tr th {\n",
       "        vertical-align: top;\n",
       "    }\n",
       "\n",
       "    .dataframe thead th {\n",
       "        text-align: right;\n",
       "    }\n",
       "</style>\n",
       "<table border=\"1\" class=\"dataframe\">\n",
       "  <thead>\n",
       "    <tr style=\"text-align: right;\">\n",
       "      <th>target_action</th>\n",
       "      <th>organic_paid_traffic</th>\n",
       "      <th>not_target_action</th>\n",
       "      <th>target_action</th>\n",
       "      <th>cr</th>\n",
       "    </tr>\n",
       "  </thead>\n",
       "  <tbody>\n",
       "    <tr>\n",
       "      <th>0</th>\n",
       "      <td>organic_traffic</td>\n",
       "      <td>3320388</td>\n",
       "      <td>23720</td>\n",
       "      <td>0.709307</td>\n",
       "    </tr>\n",
       "    <tr>\n",
       "      <th>1</th>\n",
       "      <td>paid_traffic</td>\n",
       "      <td>6381988</td>\n",
       "      <td>39488</td>\n",
       "      <td>0.614937</td>\n",
       "    </tr>\n",
       "  </tbody>\n",
       "</table>\n",
       "</div>"
      ],
      "text/plain": [
       "target_action organic_paid_traffic  not_target_action  target_action        cr\n",
       "0                  organic_traffic            3320388          23720  0.709307\n",
       "1                     paid_traffic            6381988          39488  0.614937"
      ]
     },
     "execution_count": 58,
     "metadata": {},
     "output_type": "execute_result"
    }
   ],
   "source": [
    "df_cr_traffic = pd.pivot_table(\n",
    "    df, values='session_id', index='organic_paid_traffic', columns=['target_action'], aggfunc=\"count\", observed=False).reset_index()\n",
    "df_cr_traffic['cr'] = df_cr_traffic['target_action'] * 100 / (df_cr_traffic['not_target_action'] + df_cr_traffic['target_action'])\n",
    "df_cr_traffic.sort_values(by='cr', ascending=False).head(10)"
   ]
  },
  {
   "cell_type": "code",
   "execution_count": 59,
   "id": "99f7c0ae-c228-40a6-8d4c-f41adb6c3c91",
   "metadata": {},
   "outputs": [
    {
     "name": "stdout",
     "output_type": "stream",
     "text": [
      "Z = 17.451, p = 0.0000\n"
     ]
    }
   ],
   "source": [
    "counts = np.array(df_cr_traffic['target_action'])\n",
    "nobs = np.array(df_cr_traffic['not_target_action'] + df_cr_traffic['target_action'])\n",
    "stat, pval = proportions_ztest(counts, nobs)\n",
    "print(f\"Z = {stat:.3f}, p = {pval:.4f}\")"
   ]
  },
  {
   "cell_type": "markdown",
   "id": "7b675d80-35a6-4973-bdfc-891e44e30f13",
   "metadata": {},
   "source": [
    "На уровне значимости 0.01 нулевая гипотеза отвергается и принимается альтернативная гипотеза.\n",
    "\n",
    "Conversion Rate органического и платного трафика различны."
   ]
  },
  {
   "cell_type": "code",
   "execution_count": 100,
   "id": "bd0e864c-c54e-410e-85f6-259ce85296e8",
   "metadata": {},
   "outputs": [
    {
     "data": {
      "image/png": "[encoded data removed]",
      "text/plain": [
       "<Figure size 1000x600 with 1 Axes>"
      ]
     },
     "metadata": {},
     "output_type": "display_data"
    }
   ],
   "source": [
    "plt.figure(figsize=(10, 6))\n",
    "plt.bar(df_cr_traffic['organic_paid_traffic'], df_cr_traffic['cr'], color='skyblue')\n",
    "plt.title('Conversion Rate по источникам трафика')\n",
    "plt.ylabel('CR')\n",
    "plt.xlabel('Источник')\n",
    "plt.xticks(rotation=45)\n",
    "plt.tight_layout()\n",
    "plt.show()"
   ]
  },
  {
   "cell_type": "markdown",
   "id": "4e9b4478-848c-4fcb-882f-eb22e22f22fc",
   "metadata": {},
   "source": [
    "H0: Трафик с мобильных устройств не отличается от трафика с десктопных устройств с точки зрения CR в целевые события.\n",
    "\n",
    "H1: CR мобильного и десктопного трафика различны."
   ]
  },
  {
   "cell_type": "code",
   "execution_count": 60,
   "id": "aa68b945-f2b1-4096-b02c-5178922f241f",
   "metadata": {},
   "outputs": [
    {
     "data": {
      "text/plain": [
       "device_category_type  target_action    \n",
       "desktop               not_target_action        287\n",
       "                      target_action              0\n",
       "mobile                not_target_action    9702089\n",
       "                      target_action          63208\n",
       "Name: session_id, dtype: int64"
      ]
     },
     "execution_count": 60,
     "metadata": {},
     "output_type": "execute_result"
    }
   ],
   "source": [
    "df.groupby(['device_category_type','target_action'], observed=False)['session_id'].count()"
   ]
  },
  {
   "cell_type": "code",
   "execution_count": 61,
   "id": "c83e6bc5-02f9-47b5-a965-034d089c633d",
   "metadata": {},
   "outputs": [
    {
     "data": {
      "text/html": [
       "<div>\n",
       "<style scoped>\n",
       "    .dataframe tbody tr th:only-of-type {\n",
       "        vertical-align: middle;\n",
       "    }\n",
       "\n",
       "    .dataframe tbody tr th {\n",
       "        vertical-align: top;\n",
       "    }\n",
       "\n",
       "    .dataframe thead th {\n",
       "        text-align: right;\n",
       "    }\n",
       "</style>\n",
       "<table border=\"1\" class=\"dataframe\">\n",
       "  <thead>\n",
       "    <tr style=\"text-align: right;\">\n",
       "      <th>target_action</th>\n",
       "      <th>device_category_type</th>\n",
       "      <th>not_target_action</th>\n",
       "      <th>target_action</th>\n",
       "      <th>cr</th>\n",
       "    </tr>\n",
       "  </thead>\n",
       "  <tbody>\n",
       "    <tr>\n",
       "      <th>1</th>\n",
       "      <td>mobile</td>\n",
       "      <td>9702089</td>\n",
       "      <td>63208</td>\n",
       "      <td>0.647272</td>\n",
       "    </tr>\n",
       "    <tr>\n",
       "      <th>0</th>\n",
       "      <td>desktop</td>\n",
       "      <td>287</td>\n",
       "      <td>0</td>\n",
       "      <td>0.000000</td>\n",
       "    </tr>\n",
       "  </tbody>\n",
       "</table>\n",
       "</div>"
      ],
      "text/plain": [
       "target_action device_category_type  not_target_action  target_action        cr\n",
       "1                           mobile            9702089          63208  0.647272\n",
       "0                          desktop                287              0  0.000000"
      ]
     },
     "execution_count": 61,
     "metadata": {},
     "output_type": "execute_result"
    }
   ],
   "source": [
    "df_cr_device = pd.pivot_table(\n",
    "    df, values='session_id', index='device_category_type', columns=['target_action'], aggfunc=\"count\", observed=False).reset_index()\n",
    "df_cr_device['cr'] = df_cr_device['target_action'] * 100 / (df_cr_device['not_target_action'] + df_cr_device['target_action'])\n",
    "df_cr_device.sort_values(by='cr', ascending=False).head(10)"
   ]
  },
  {
   "cell_type": "code",
   "execution_count": 62,
   "id": "a92bddd1-335e-4349-aeb8-1ed3bd16b72d",
   "metadata": {},
   "outputs": [
    {
     "name": "stdout",
     "output_type": "stream",
     "text": [
      "Z = -1.367, p = 0.1715\n"
     ]
    }
   ],
   "source": [
    "counts = np.array(df_cr_device['target_action'])\n",
    "nobs = np.array(df_cr_device['not_target_action'] + df_cr_device['target_action'])\n",
    "stat, pval = proportions_ztest(counts, nobs)\n",
    "print(f\"Z = {stat:.3f}, p = {pval:.4f}\")"
   ]
  },
  {
   "cell_type": "markdown",
   "id": "495edc57-0699-4dd6-93b7-152db45429b7",
   "metadata": {},
   "source": [
    "На уровне значимости 0.01 нулевая гипотеза не может быть отвергнута.\n",
    "\n",
    "Разница между Conversion Rate мобильного и десктопного трафика статистически не значима."
   ]
  },
  {
   "cell_type": "code",
   "execution_count": 116,
   "id": "326ebf04-dced-41a0-bcb3-123b48fa436c",
   "metadata": {},
   "outputs": [
    {
     "data": {
      "image/png": "[encoded data removed]",
      "text/plain": [
       "<Figure size 1000x600 with 1 Axes>"
      ]
     },
     "metadata": {},
     "output_type": "display_data"
    }
   ],
   "source": [
    "plt.figure(figsize=(10, 6))\n",
    "plt.bar(df_cr_device['device_category_type'], df_cr_device['cr'], color='skyblue')\n",
    "plt.title('Conversion Rate по типу устройства')\n",
    "plt.ylabel('CR')\n",
    "plt.xlabel('Тип')\n",
    "plt.xticks(rotation=45)\n",
    "plt.tight_layout()\n",
    "plt.show()"
   ]
  },
  {
   "cell_type": "markdown",
   "id": "26cea6c2-582b-4b42-aac6-c99aab946acb",
   "metadata": {},
   "source": [
    "H0: Трафик из городов присутствия (Москва и область, Санкт-Петербург) не отличается от трафика из иных регионов с точки зрения CR в целевые события.\n",
    "\n",
    "H1: CR трафика из городов присутствия и остальных городов различны."
   ]
  },
  {
   "cell_type": "code",
   "execution_count": 63,
   "id": "cb09f274-020f-42c0-9043-32733d7b265b",
   "metadata": {},
   "outputs": [
    {
     "data": {
      "text/plain": [
       "region_of_presence    target_action    \n",
       "not_regions_presence  not_target_action    4236901\n",
       "                      target_action          24494\n",
       "regions_presence      not_target_action    5465475\n",
       "                      target_action          38714\n",
       "Name: session_id, dtype: int64"
      ]
     },
     "execution_count": 63,
     "metadata": {},
     "output_type": "execute_result"
    }
   ],
   "source": [
    "df.groupby(['region_of_presence', 'target_action'], observed=False)['session_id'].count()"
   ]
  },
  {
   "cell_type": "code",
   "execution_count": 64,
   "id": "1c27fa8d-6b7e-4668-98c9-02c75953c0ea",
   "metadata": {},
   "outputs": [
    {
     "data": {
      "text/html": [
       "<div>\n",
       "<style scoped>\n",
       "    .dataframe tbody tr th:only-of-type {\n",
       "        vertical-align: middle;\n",
       "    }\n",
       "\n",
       "    .dataframe tbody tr th {\n",
       "        vertical-align: top;\n",
       "    }\n",
       "\n",
       "    .dataframe thead th {\n",
       "        text-align: right;\n",
       "    }\n",
       "</style>\n",
       "<table border=\"1\" class=\"dataframe\">\n",
       "  <thead>\n",
       "    <tr style=\"text-align: right;\">\n",
       "      <th>target_action</th>\n",
       "      <th>region_of_presence</th>\n",
       "      <th>not_target_action</th>\n",
       "      <th>target_action</th>\n",
       "      <th>cr</th>\n",
       "    </tr>\n",
       "  </thead>\n",
       "  <tbody>\n",
       "    <tr>\n",
       "      <th>1</th>\n",
       "      <td>regions_presence</td>\n",
       "      <td>5465475</td>\n",
       "      <td>38714</td>\n",
       "      <td>0.703355</td>\n",
       "    </tr>\n",
       "    <tr>\n",
       "      <th>0</th>\n",
       "      <td>not_regions_presence</td>\n",
       "      <td>4236901</td>\n",
       "      <td>24494</td>\n",
       "      <td>0.574788</td>\n",
       "    </tr>\n",
       "  </tbody>\n",
       "</table>\n",
       "</div>"
      ],
      "text/plain": [
       "target_action    region_of_presence  not_target_action  target_action  \\\n",
       "1                  regions_presence            5465475          38714   \n",
       "0              not_regions_presence            4236901          24494   \n",
       "\n",
       "target_action        cr  \n",
       "1              0.703355  \n",
       "0              0.574788  "
      ]
     },
     "execution_count": 64,
     "metadata": {},
     "output_type": "execute_result"
    }
   ],
   "source": [
    "df_cr_regions = pd.pivot_table(\n",
    "    df, values='session_id', index='region_of_presence', columns=['target_action'], aggfunc=\"count\", observed=False).reset_index()\n",
    "df_cr_regions['cr'] = df_cr_regions['target_action'] * 100 / (df_cr_regions['not_target_action'] + df_cr_regions['target_action'])\n",
    "df_cr_regions.sort_values(by='cr', ascending=False).head(10)"
   ]
  },
  {
   "cell_type": "code",
   "execution_count": 65,
   "id": "b1be1107-5ed6-4555-ad9a-59f95b3661d7",
   "metadata": {},
   "outputs": [
    {
     "name": "stdout",
     "output_type": "stream",
     "text": [
      "Z = -24.847, p = 0.0000\n"
     ]
    }
   ],
   "source": [
    "counts = np.array(df_cr_regions['target_action'])\n",
    "nobs = np.array(df_cr_regions['not_target_action'] + df_cr_regions['target_action'])\n",
    "stat, pval = proportions_ztest(counts, nobs)\n",
    "print(f\"Z = {stat:.3f}, p = {pval:.4f}\")"
   ]
  },
  {
   "cell_type": "markdown",
   "id": "a6744835-fa21-4ebf-8e2f-f0560029ec6f",
   "metadata": {},
   "source": [
    "На уровне значимости 0.01 нулевая гипотеза отвергается и принимается альтернативная гипотеза.\n",
    "\n",
    "Conversion Rate трафика из городов присутствия и остальных городов различны."
   ]
  },
  {
   "cell_type": "code",
   "execution_count": 115,
   "id": "6f2a0355-ba0b-41c7-b426-8da92c2a7a2f",
   "metadata": {},
   "outputs": [
    {
     "data": {
      "image/png": "[encoded data removed]",
      "text/plain": [
       "<Figure size 1000x600 with 1 Axes>"
      ]
     },
     "metadata": {},
     "output_type": "display_data"
    }
   ],
   "source": [
    "plt.figure(figsize=(10, 6))\n",
    "plt.bar(df_cr_regions['region_of_presence'], df_cr_regions['cr'], color='skyblue')\n",
    "plt.title('Conversion Rate по регионам присутствия')\n",
    "plt.ylabel('CR')\n",
    "plt.xlabel('Регион')\n",
    "plt.xticks(rotation=45)\n",
    "plt.tight_layout()\n",
    "plt.show()"
   ]
  },
  {
   "cell_type": "code",
   "execution_count": 66,
   "id": "c8a946de-7b33-4cd2-b468-9034aadc0f0a",
   "metadata": {},
   "outputs": [
    {
     "data": {
      "text/html": [
       "<div>\n",
       "<style scoped>\n",
       "    .dataframe tbody tr th:only-of-type {\n",
       "        vertical-align: middle;\n",
       "    }\n",
       "\n",
       "    .dataframe tbody tr th {\n",
       "        vertical-align: top;\n",
       "    }\n",
       "\n",
       "    .dataframe thead th {\n",
       "        text-align: right;\n",
       "    }\n",
       "</style>\n",
       "<table border=\"1\" class=\"dataframe\">\n",
       "  <thead>\n",
       "    <tr style=\"text-align: right;\">\n",
       "      <th></th>\n",
       "      <th>target_action</th>\n",
       "      <th>organic_paid_traffic</th>\n",
       "      <th>device_category_type</th>\n",
       "      <th>region_of_presence</th>\n",
       "      <th>session_id</th>\n",
       "    </tr>\n",
       "  </thead>\n",
       "  <tbody>\n",
       "    <tr>\n",
       "      <th>15</th>\n",
       "      <td>target_action</td>\n",
       "      <td>paid_traffic</td>\n",
       "      <td>mobile</td>\n",
       "      <td>regions_presence</td>\n",
       "      <td>23120</td>\n",
       "    </tr>\n",
       "    <tr>\n",
       "      <th>14</th>\n",
       "      <td>target_action</td>\n",
       "      <td>paid_traffic</td>\n",
       "      <td>mobile</td>\n",
       "      <td>not_regions_presence</td>\n",
       "      <td>16368</td>\n",
       "    </tr>\n",
       "    <tr>\n",
       "      <th>11</th>\n",
       "      <td>target_action</td>\n",
       "      <td>organic_traffic</td>\n",
       "      <td>mobile</td>\n",
       "      <td>regions_presence</td>\n",
       "      <td>15594</td>\n",
       "    </tr>\n",
       "    <tr>\n",
       "      <th>10</th>\n",
       "      <td>target_action</td>\n",
       "      <td>organic_traffic</td>\n",
       "      <td>mobile</td>\n",
       "      <td>not_regions_presence</td>\n",
       "      <td>8126</td>\n",
       "    </tr>\n",
       "    <tr>\n",
       "      <th>8</th>\n",
       "      <td>target_action</td>\n",
       "      <td>organic_traffic</td>\n",
       "      <td>desktop</td>\n",
       "      <td>not_regions_presence</td>\n",
       "      <td>0</td>\n",
       "    </tr>\n",
       "    <tr>\n",
       "      <th>9</th>\n",
       "      <td>target_action</td>\n",
       "      <td>organic_traffic</td>\n",
       "      <td>desktop</td>\n",
       "      <td>regions_presence</td>\n",
       "      <td>0</td>\n",
       "    </tr>\n",
       "    <tr>\n",
       "      <th>12</th>\n",
       "      <td>target_action</td>\n",
       "      <td>paid_traffic</td>\n",
       "      <td>desktop</td>\n",
       "      <td>not_regions_presence</td>\n",
       "      <td>0</td>\n",
       "    </tr>\n",
       "    <tr>\n",
       "      <th>13</th>\n",
       "      <td>target_action</td>\n",
       "      <td>paid_traffic</td>\n",
       "      <td>desktop</td>\n",
       "      <td>regions_presence</td>\n",
       "      <td>0</td>\n",
       "    </tr>\n",
       "    <tr>\n",
       "      <th>7</th>\n",
       "      <td>not_target_action</td>\n",
       "      <td>paid_traffic</td>\n",
       "      <td>mobile</td>\n",
       "      <td>regions_presence</td>\n",
       "      <td>3280713</td>\n",
       "    </tr>\n",
       "    <tr>\n",
       "      <th>6</th>\n",
       "      <td>not_target_action</td>\n",
       "      <td>paid_traffic</td>\n",
       "      <td>mobile</td>\n",
       "      <td>not_regions_presence</td>\n",
       "      <td>3101024</td>\n",
       "    </tr>\n",
       "    <tr>\n",
       "      <th>3</th>\n",
       "      <td>not_target_action</td>\n",
       "      <td>organic_traffic</td>\n",
       "      <td>mobile</td>\n",
       "      <td>regions_presence</td>\n",
       "      <td>2184540</td>\n",
       "    </tr>\n",
       "    <tr>\n",
       "      <th>2</th>\n",
       "      <td>not_target_action</td>\n",
       "      <td>organic_traffic</td>\n",
       "      <td>mobile</td>\n",
       "      <td>not_regions_presence</td>\n",
       "      <td>1135812</td>\n",
       "    </tr>\n",
       "    <tr>\n",
       "      <th>5</th>\n",
       "      <td>not_target_action</td>\n",
       "      <td>paid_traffic</td>\n",
       "      <td>desktop</td>\n",
       "      <td>regions_presence</td>\n",
       "      <td>186</td>\n",
       "    </tr>\n",
       "    <tr>\n",
       "      <th>4</th>\n",
       "      <td>not_target_action</td>\n",
       "      <td>paid_traffic</td>\n",
       "      <td>desktop</td>\n",
       "      <td>not_regions_presence</td>\n",
       "      <td>65</td>\n",
       "    </tr>\n",
       "    <tr>\n",
       "      <th>1</th>\n",
       "      <td>not_target_action</td>\n",
       "      <td>organic_traffic</td>\n",
       "      <td>desktop</td>\n",
       "      <td>regions_presence</td>\n",
       "      <td>36</td>\n",
       "    </tr>\n",
       "    <tr>\n",
       "      <th>0</th>\n",
       "      <td>not_target_action</td>\n",
       "      <td>organic_traffic</td>\n",
       "      <td>desktop</td>\n",
       "      <td>not_regions_presence</td>\n",
       "      <td>0</td>\n",
       "    </tr>\n",
       "  </tbody>\n",
       "</table>\n",
       "</div>"
      ],
      "text/plain": [
       "        target_action organic_paid_traffic device_category_type  \\\n",
       "15      target_action         paid_traffic               mobile   \n",
       "14      target_action         paid_traffic               mobile   \n",
       "11      target_action      organic_traffic               mobile   \n",
       "10      target_action      organic_traffic               mobile   \n",
       "8       target_action      organic_traffic              desktop   \n",
       "9       target_action      organic_traffic              desktop   \n",
       "12      target_action         paid_traffic              desktop   \n",
       "13      target_action         paid_traffic              desktop   \n",
       "7   not_target_action         paid_traffic               mobile   \n",
       "6   not_target_action         paid_traffic               mobile   \n",
       "3   not_target_action      organic_traffic               mobile   \n",
       "2   not_target_action      organic_traffic               mobile   \n",
       "5   not_target_action         paid_traffic              desktop   \n",
       "4   not_target_action         paid_traffic              desktop   \n",
       "1   not_target_action      organic_traffic              desktop   \n",
       "0   not_target_action      organic_traffic              desktop   \n",
       "\n",
       "      region_of_presence  session_id  \n",
       "15      regions_presence       23120  \n",
       "14  not_regions_presence       16368  \n",
       "11      regions_presence       15594  \n",
       "10  not_regions_presence        8126  \n",
       "8   not_regions_presence           0  \n",
       "9       regions_presence           0  \n",
       "12  not_regions_presence           0  \n",
       "13      regions_presence           0  \n",
       "7       regions_presence     3280713  \n",
       "6   not_regions_presence     3101024  \n",
       "3       regions_presence     2184540  \n",
       "2   not_regions_presence     1135812  \n",
       "5       regions_presence         186  \n",
       "4   not_regions_presence          65  \n",
       "1       regions_presence          36  \n",
       "0   not_regions_presence           0  "
      ]
     },
     "execution_count": 66,
     "metadata": {},
     "output_type": "execute_result"
    }
   ],
   "source": [
    "# Из каких источников / кампаний / устройств / локаций к нам идёт самый целевой трафик (и с точки зрения объёма трафика, и с точки зрения CR)?\n",
    "df.groupby(['target_action', 'organic_paid_traffic', 'device_category_type' ,'region_of_presence'], observed=False)['session_id'].count(\n",
    "    ).reset_index().sort_values(by=['target_action', 'session_id'], ascending=False)"
   ]
  },
  {
   "cell_type": "markdown",
   "id": "d07cc699-efb5-4571-8cd9-877a5bcea9a7",
   "metadata": {},
   "source": [
    "Самый целевой трафик поступает с мобильных устройств регионов присутствия по платному трафику."
   ]
  },
  {
   "cell_type": "code",
   "execution_count": 114,
   "id": "984259f6-9f9d-432f-ba40-cfc43c3a7857",
   "metadata": {},
   "outputs": [
    {
     "data": {
      "text/html": [
       "<div>\n",
       "<style scoped>\n",
       "    .dataframe tbody tr th:only-of-type {\n",
       "        vertical-align: middle;\n",
       "    }\n",
       "\n",
       "    .dataframe tbody tr th {\n",
       "        vertical-align: top;\n",
       "    }\n",
       "\n",
       "    .dataframe thead th {\n",
       "        text-align: right;\n",
       "    }\n",
       "</style>\n",
       "<table border=\"1\" class=\"dataframe\">\n",
       "  <thead>\n",
       "    <tr style=\"text-align: right;\">\n",
       "      <th></th>\n",
       "      <th>target_action</th>\n",
       "      <th>car_model</th>\n",
       "      <th>session_id</th>\n",
       "    </tr>\n",
       "  </thead>\n",
       "  <tbody>\n",
       "    <tr>\n",
       "      <th>132</th>\n",
       "      <td>target_action</td>\n",
       "      <td>other</td>\n",
       "      <td>43896</td>\n",
       "    </tr>\n",
       "    <tr>\n",
       "      <th>142</th>\n",
       "      <td>target_action</td>\n",
       "      <td>skoda</td>\n",
       "      <td>5039</td>\n",
       "    </tr>\n",
       "    <tr>\n",
       "      <th>120</th>\n",
       "      <td>target_action</td>\n",
       "      <td>lada</td>\n",
       "      <td>3534</td>\n",
       "    </tr>\n",
       "    <tr>\n",
       "      <th>150</th>\n",
       "      <td>target_action</td>\n",
       "      <td>volkswagen</td>\n",
       "      <td>3135</td>\n",
       "    </tr>\n",
       "    <tr>\n",
       "      <th>119</th>\n",
       "      <td>target_action</td>\n",
       "      <td>kia</td>\n",
       "      <td>1871</td>\n",
       "    </tr>\n",
       "    <tr>\n",
       "      <th>127</th>\n",
       "      <td>target_action</td>\n",
       "      <td>mercedes-benz</td>\n",
       "      <td>1286</td>\n",
       "    </tr>\n",
       "    <tr>\n",
       "      <th>148</th>\n",
       "      <td>target_action</td>\n",
       "      <td>toyota</td>\n",
       "      <td>1220</td>\n",
       "    </tr>\n",
       "    <tr>\n",
       "      <th>136</th>\n",
       "      <td>target_action</td>\n",
       "      <td>renault</td>\n",
       "      <td>827</td>\n",
       "    </tr>\n",
       "    <tr>\n",
       "      <th>130</th>\n",
       "      <td>target_action</td>\n",
       "      <td>nissan</td>\n",
       "      <td>792</td>\n",
       "    </tr>\n",
       "    <tr>\n",
       "      <th>81</th>\n",
       "      <td>target_action</td>\n",
       "      <td>bmw</td>\n",
       "      <td>395</td>\n",
       "    </tr>\n",
       "    <tr>\n",
       "      <th>108</th>\n",
       "      <td>target_action</td>\n",
       "      <td>haval</td>\n",
       "      <td>389</td>\n",
       "    </tr>\n",
       "  </tbody>\n",
       "</table>\n",
       "</div>"
      ],
      "text/plain": [
       "     target_action      car_model  session_id\n",
       "132  target_action          other       43896\n",
       "142  target_action          skoda        5039\n",
       "120  target_action           lada        3534\n",
       "150  target_action     volkswagen        3135\n",
       "119  target_action            kia        1871\n",
       "127  target_action  mercedes-benz        1286\n",
       "148  target_action         toyota        1220\n",
       "136  target_action        renault         827\n",
       "130  target_action         nissan         792\n",
       "81   target_action            bmw         395\n",
       "108  target_action          haval         389"
      ]
     },
     "execution_count": 114,
     "metadata": {},
     "output_type": "execute_result"
    }
   ],
   "source": [
    "# Какие авто пользуются наибольшим спросом?\n",
    "df_demand_avto = pd.pivot_table(df, values='session_id', index=['target_action', 'car_model'], aggfunc=\"count\", observed=False).reset_index(\n",
    "    ).sort_values(by=['target_action', 'session_id'], ascending=False)\n",
    "df_demand_avto.head(11)"
   ]
  },
  {
   "cell_type": "code",
   "execution_count": 121,
   "id": "76d41c17-2103-4e3e-a043-c3658d7e2229",
   "metadata": {},
   "outputs": [
    {
     "data": {
      "image/png": "[encoded data removed]",
      "text/plain": [
       "<Figure size 1000x600 with 1 Axes>"
      ]
     },
     "metadata": {},
     "output_type": "display_data"
    }
   ],
   "source": [
    "plt.figure(figsize=(10, 6))\n",
    "plt.bar(df_demand_avto['car_model'].head(11), df_demand_avto['session_id'].head(11), color='skyblue')\n",
    "plt.title('Автомобили с наибольшим спросом')\n",
    "plt.ylabel('Спрос')\n",
    "plt.xlabel('Марка автомобиля')\n",
    "plt.xticks(rotation=30)\n",
    "plt.tight_layout()\n",
    "plt.show()"
   ]
  },
  {
   "cell_type": "code",
   "execution_count": 113,
   "id": "7e949634-8722-4c9f-ae23-f6415ffafd33",
   "metadata": {},
   "outputs": [
    {
     "name": "stdout",
     "output_type": "stream",
     "text": [
      "Самые востребованные автомобили: ['other', 'skoda', 'lada', 'volkswagen', 'kia', 'mercedes-benz', 'toyota', 'renault', 'nissan', 'bmw', 'haval']\n"
     ]
    }
   ],
   "source": [
    "print(f'Самые востребованные автомобили: {list(df_demand_avto['car_model'].values)}')"
   ]
  },
  {
   "cell_type": "code",
   "execution_count": 123,
   "id": "fc18b318-b484-4fe7-9a8c-afde4e81e166",
   "metadata": {},
   "outputs": [
    {
     "data": {
      "text/html": [
       "<div>\n",
       "<style scoped>\n",
       "    .dataframe tbody tr th:only-of-type {\n",
       "        vertical-align: middle;\n",
       "    }\n",
       "\n",
       "    .dataframe tbody tr th {\n",
       "        vertical-align: top;\n",
       "    }\n",
       "\n",
       "    .dataframe thead th {\n",
       "        text-align: right;\n",
       "    }\n",
       "</style>\n",
       "<table border=\"1\" class=\"dataframe\">\n",
       "  <thead>\n",
       "    <tr style=\"text-align: right;\">\n",
       "      <th>target_action</th>\n",
       "      <th>car_model</th>\n",
       "      <th>not_target_action</th>\n",
       "      <th>target_action</th>\n",
       "      <th>cr</th>\n",
       "    </tr>\n",
       "  </thead>\n",
       "  <tbody>\n",
       "    <tr>\n",
       "      <th>32</th>\n",
       "      <td>hawtai</td>\n",
       "      <td>0</td>\n",
       "      <td>2</td>\n",
       "      <td>100.000000</td>\n",
       "    </tr>\n",
       "    <tr>\n",
       "      <th>70</th>\n",
       "      <td>tesla</td>\n",
       "      <td>51</td>\n",
       "      <td>2</td>\n",
       "      <td>3.773585</td>\n",
       "    </tr>\n",
       "    <tr>\n",
       "      <th>36</th>\n",
       "      <td>hyundai</td>\n",
       "      <td>9083</td>\n",
       "      <td>204</td>\n",
       "      <td>2.196619</td>\n",
       "    </tr>\n",
       "    <tr>\n",
       "      <th>66</th>\n",
       "      <td>smart</td>\n",
       "      <td>231</td>\n",
       "      <td>5</td>\n",
       "      <td>2.118644</td>\n",
       "    </tr>\n",
       "    <tr>\n",
       "      <th>23</th>\n",
       "      <td>fiat</td>\n",
       "      <td>53</td>\n",
       "      <td>1</td>\n",
       "      <td>1.851852</td>\n",
       "    </tr>\n",
       "    <tr>\n",
       "      <th>43</th>\n",
       "      <td>lada</td>\n",
       "      <td>225617</td>\n",
       "      <td>3534</td>\n",
       "      <td>1.542215</td>\n",
       "    </tr>\n",
       "    <tr>\n",
       "      <th>42</th>\n",
       "      <td>kia</td>\n",
       "      <td>124377</td>\n",
       "      <td>1871</td>\n",
       "      <td>1.482004</td>\n",
       "    </tr>\n",
       "    <tr>\n",
       "      <th>73</th>\n",
       "      <td>volkswagen</td>\n",
       "      <td>225378</td>\n",
       "      <td>3135</td>\n",
       "      <td>1.371913</td>\n",
       "    </tr>\n",
       "    <tr>\n",
       "      <th>71</th>\n",
       "      <td>toyota</td>\n",
       "      <td>87996</td>\n",
       "      <td>1220</td>\n",
       "      <td>1.367468</td>\n",
       "    </tr>\n",
       "    <tr>\n",
       "      <th>31</th>\n",
       "      <td>haval</td>\n",
       "      <td>31324</td>\n",
       "      <td>389</td>\n",
       "      <td>1.226626</td>\n",
       "    </tr>\n",
       "  </tbody>\n",
       "</table>\n",
       "</div>"
      ],
      "text/plain": [
       "target_action   car_model  not_target_action  target_action          cr\n",
       "32                 hawtai                  0              2  100.000000\n",
       "70                  tesla                 51              2    3.773585\n",
       "36                hyundai               9083            204    2.196619\n",
       "66                  smart                231              5    2.118644\n",
       "23                   fiat                 53              1    1.851852\n",
       "43                   lada             225617           3534    1.542215\n",
       "42                    kia             124377           1871    1.482004\n",
       "73             volkswagen             225378           3135    1.371913\n",
       "71                 toyota              87996           1220    1.367468\n",
       "31                  haval              31324            389    1.226626"
      ]
     },
     "execution_count": 123,
     "metadata": {},
     "output_type": "execute_result"
    }
   ],
   "source": [
    "# У каких авто самый лучший показатель CR (Conversion Rate) в целевые события?\n",
    "df_cr_avto = pd.pivot_table(df, values='session_id', index='car_model', columns=['target_action'], aggfunc=\"count\", observed=False).reset_index()\n",
    "df_cr_avto['cr'] = df_cr_avto['target_action'] * 100 / (df_cr_avto['not_target_action'] + df_cr_avto['target_action'])\n",
    "df_cr_avto = df_cr_avto.sort_values(by='cr', ascending=False)\n",
    "df_cr_avto.head(10)"
   ]
  },
  {
   "cell_type": "code",
   "execution_count": 126,
   "id": "2d2c0283-038d-4933-8f44-6d660b540cc9",
   "metadata": {},
   "outputs": [
    {
     "data": {
      "image/png": "[encoded data removed]",
      "text/plain": [
       "<Figure size 1000x600 with 1 Axes>"
      ]
     },
     "metadata": {},
     "output_type": "display_data"
    }
   ],
   "source": [
    "plt.figure(figsize=(10, 6))\n",
    "plt.bar(df_cr_avto['car_model'].head(11), df_cr_avto['cr'].head(11), color='skyblue')\n",
    "plt.title('Автомобили с наибольшим Conversion Rate')\n",
    "plt.ylabel('CR')\n",
    "plt.xlabel('Марка автомобиля')\n",
    "plt.xticks(rotation=30)\n",
    "plt.tight_layout()\n",
    "plt.show()"
   ]
  },
  {
   "cell_type": "markdown",
   "id": "394d970b-da2b-40be-96e4-39cb66759ff5",
   "metadata": {},
   "source": [
    "Самый лучший показатель CR в целевые события у автомобиля hawtai."
   ]
  },
  {
   "cell_type": "code",
   "execution_count": 69,
   "id": "8e373f30-1e50-4044-be18-bb54ef1fdc0f",
   "metadata": {},
   "outputs": [
    {
     "data": {
      "text/html": [
       "<div>\n",
       "<style scoped>\n",
       "    .dataframe tbody tr th:only-of-type {\n",
       "        vertical-align: middle;\n",
       "    }\n",
       "\n",
       "    .dataframe tbody tr th {\n",
       "        vertical-align: top;\n",
       "    }\n",
       "\n",
       "    .dataframe thead th {\n",
       "        text-align: right;\n",
       "    }\n",
       "</style>\n",
       "<table border=\"1\" class=\"dataframe\">\n",
       "  <thead>\n",
       "    <tr style=\"text-align: right;\">\n",
       "      <th>target_action</th>\n",
       "      <th>social_media</th>\n",
       "      <th>not_target_action</th>\n",
       "      <th>target_action</th>\n",
       "      <th>cr</th>\n",
       "    </tr>\n",
       "  </thead>\n",
       "  <tbody>\n",
       "    <tr>\n",
       "      <th>1</th>\n",
       "      <td>social_media</td>\n",
       "      <td>514889</td>\n",
       "      <td>4733</td>\n",
       "      <td>0.910854</td>\n",
       "    </tr>\n",
       "    <tr>\n",
       "      <th>0</th>\n",
       "      <td>not_social_media</td>\n",
       "      <td>9187487</td>\n",
       "      <td>58475</td>\n",
       "      <td>0.632438</td>\n",
       "    </tr>\n",
       "  </tbody>\n",
       "</table>\n",
       "</div>"
      ],
      "text/plain": [
       "target_action      social_media  not_target_action  target_action        cr\n",
       "1                  social_media             514889           4733  0.910854\n",
       "0              not_social_media            9187487          58475  0.632438"
      ]
     },
     "execution_count": 69,
     "metadata": {},
     "output_type": "execute_result"
    }
   ],
   "source": [
    "# Стоит ли нам увеличивать своё присутствие в соцсетях и давать там больше рекламы?\n",
    "df_cr_social_media = pd.pivot_table(\n",
    "    df, values='session_id', index='social_media', columns=['target_action'], aggfunc=\"count\", observed=False).reset_index()\n",
    "df_cr_social_media['cr'] = df_cr_social_media['target_action'] * 100 / (df_cr_social_media['not_target_action'] + df_cr_social_media['target_action'])\n",
    "df_cr_social_media.sort_values(by='cr', ascending=False).head(10)"
   ]
  },
  {
   "cell_type": "code",
   "execution_count": 155,
   "id": "5a648eb9-e6da-4d57-92a5-f4f5db768a45",
   "metadata": {},
   "outputs": [
    {
     "data": {
      "image/png": "[encoded data removed]",
      "text/plain": [
       "<Figure size 700x700 with 1 Axes>"
      ]
     },
     "metadata": {},
     "output_type": "display_data"
    }
   ],
   "source": [
    "plt.figure(figsize=(7, 7))\n",
    "plt.pie(\n",
    "    df_cr_social_media['cr'],\n",
    "    labels=df_cr_social_media['social_media'],\n",
    "    autopct='%.0f%%',\n",
    "    pctdistance=0.4,\n",
    "    colors=['skyblue', 'pink']\n",
    ")\n",
    "plt.title('Соотношение рекламы по каналам привлечения')\n",
    "plt.show()"
   ]
  },
  {
   "cell_type": "markdown",
   "id": "ede50a8c-f6de-437a-b03c-86d09cf46de3",
   "metadata": {},
   "source": [
    "Стоит покупать рекламу в соцсетях, т.к. конверсия в целевые действия там выше, чем на всех остальных каналах привлечения в сумме."
   ]
  },
  {
   "cell_type": "code",
   "execution_count": null,
   "id": "7f650ca6-5998-4c2d-8421-ac35f319221e",
   "metadata": {},
   "outputs": [],
   "source": []
  }
 ],
 "metadata": {
  "kernelspec": {
   "display_name": "Python 3 (ipykernel)",
   "language": "python",
   "name": "python3"
  },
  "language_info": {
   "codemirror_mode": {
    "name": "ipython",
    "version": 3
   },
   "file_extension": ".py",
   "mimetype": "text/x-python",
   "name": "python",
   "nbconvert_exporter": "python",
   "pygments_lexer": "ipython3",
   "version": "3.12.7"
  }
 },
 "nbformat": 4,
 "nbformat_minor": 5
}
